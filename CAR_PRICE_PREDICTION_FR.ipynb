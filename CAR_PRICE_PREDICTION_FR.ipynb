{
 "cells": [
  {
   "cell_type": "markdown",
   "metadata": {},
   "source": [
    "# Project Title : Car Price Prediction Project"
   ]
  },
  {
   "cell_type": "markdown",
   "metadata": {},
   "source": [
    "# Problem Statement:"
   ]
  },
  {
   "cell_type": "markdown",
   "metadata": {},
   "source": [
    "With the covid 19 impact in the market, we have seen lot of changes in the car market. Now some cars are in demand hence making them costly and some are not in demand hence cheaper. One of our clients works with small traders, who sell used cars. With the change in market due to covid 19 impact, our client is facing problems with their previous car price valuation machine learning models. So, they are looking for new machine learning models from new data. We have to make car price valuation model."
   ]
  },
  {
   "cell_type": "markdown",
   "metadata": {},
   "source": [
    "# Business Goal:"
   ]
  },
  {
   "cell_type": "markdown",
   "metadata": {},
   "source": [
    "We need to build a machine learning model. Before model building do all data pre-processing steps. Try different models with different hyper parameters and select the best model."
   ]
  },
  {
   "cell_type": "code",
   "execution_count": 1,
   "metadata": {},
   "outputs": [],
   "source": [
    "#importing libraries\n",
    "import pandas as pd\n",
    "import numpy as np\n",
    "import matplotlib.pyplot as plt\n",
    "import seaborn as sn\n",
    "import warnings\n",
    "warnings.filterwarnings(\"ignore\")"
   ]
  },
  {
   "cell_type": "code",
   "execution_count": 2,
   "metadata": {},
   "outputs": [
    {
     "data": {
      "text/html": [
       "<div>\n",
       "<style scoped>\n",
       "    .dataframe tbody tr th:only-of-type {\n",
       "        vertical-align: middle;\n",
       "    }\n",
       "\n",
       "    .dataframe tbody tr th {\n",
       "        vertical-align: top;\n",
       "    }\n",
       "\n",
       "    .dataframe thead th {\n",
       "        text-align: right;\n",
       "    }\n",
       "</style>\n",
       "<table border=\"1\" class=\"dataframe\">\n",
       "  <thead>\n",
       "    <tr style=\"text-align: right;\">\n",
       "      <th></th>\n",
       "      <th>Unnamed: 0</th>\n",
       "      <th>Unnamed: 0.1</th>\n",
       "      <th>Brand</th>\n",
       "      <th>Model</th>\n",
       "      <th>Variant</th>\n",
       "      <th>Year_of_Manufacturing</th>\n",
       "      <th>Transmission Type</th>\n",
       "      <th>Fuel Type</th>\n",
       "      <th>Kilometers Driven</th>\n",
       "      <th>No of Owners</th>\n",
       "      <th>Price</th>\n",
       "      <th>Location</th>\n",
       "    </tr>\n",
       "  </thead>\n",
       "  <tbody>\n",
       "    <tr>\n",
       "      <th>0</th>\n",
       "      <td>0</td>\n",
       "      <td>0</td>\n",
       "      <td>Maruti Suzuki</td>\n",
       "      <td>Swift Dzire</td>\n",
       "      <td>NaN</td>\n",
       "      <td>2018</td>\n",
       "      <td>Manual</td>\n",
       "      <td>Petrol</td>\n",
       "      <td>17,400 km</td>\n",
       "      <td>1st</td>\n",
       "      <td>6,90,000</td>\n",
       "      <td>Chennai</td>\n",
       "    </tr>\n",
       "    <tr>\n",
       "      <th>1</th>\n",
       "      <td>1</td>\n",
       "      <td>1</td>\n",
       "      <td>Toyota</td>\n",
       "      <td>Innova</td>\n",
       "      <td>NaN</td>\n",
       "      <td>2013</td>\n",
       "      <td>Manual</td>\n",
       "      <td>Diesel</td>\n",
       "      <td>200,000 km</td>\n",
       "      <td>1st</td>\n",
       "      <td>6,80,000</td>\n",
       "      <td>Chennai</td>\n",
       "    </tr>\n",
       "    <tr>\n",
       "      <th>2</th>\n",
       "      <td>2</td>\n",
       "      <td>2</td>\n",
       "      <td>Hyundai</td>\n",
       "      <td>i10</td>\n",
       "      <td>NaN</td>\n",
       "      <td>2008</td>\n",
       "      <td>Manual</td>\n",
       "      <td>Petrol</td>\n",
       "      <td>77,000 km</td>\n",
       "      <td>2nd</td>\n",
       "      <td>2,60,000</td>\n",
       "      <td>Chennai</td>\n",
       "    </tr>\n",
       "    <tr>\n",
       "      <th>3</th>\n",
       "      <td>3</td>\n",
       "      <td>3</td>\n",
       "      <td>Maruti Suzuki</td>\n",
       "      <td>Swift Dzire</td>\n",
       "      <td>NaN</td>\n",
       "      <td>2015</td>\n",
       "      <td>Manual</td>\n",
       "      <td>Diesel</td>\n",
       "      <td>105,000 km</td>\n",
       "      <td>1st</td>\n",
       "      <td>5,49,000</td>\n",
       "      <td>Chennai</td>\n",
       "    </tr>\n",
       "    <tr>\n",
       "      <th>4</th>\n",
       "      <td>4</td>\n",
       "      <td>4</td>\n",
       "      <td>Maruti Suzuki</td>\n",
       "      <td>SX4</td>\n",
       "      <td>NaN</td>\n",
       "      <td>2007</td>\n",
       "      <td>Manual</td>\n",
       "      <td>Petrol</td>\n",
       "      <td>98,000 km</td>\n",
       "      <td>2nd</td>\n",
       "      <td>2,10,000</td>\n",
       "      <td>Chennai</td>\n",
       "    </tr>\n",
       "  </tbody>\n",
       "</table>\n",
       "</div>"
      ],
      "text/plain": [
       "   Unnamed: 0  Unnamed: 0.1          Brand        Model  Variant  \\\n",
       "0           0             0  Maruti Suzuki  Swift Dzire      NaN   \n",
       "1           1             1         Toyota       Innova      NaN   \n",
       "2           2             2        Hyundai          i10      NaN   \n",
       "3           3             3  Maruti Suzuki  Swift Dzire      NaN   \n",
       "4           4             4  Maruti Suzuki          SX4      NaN   \n",
       "\n",
       "  Year_of_Manufacturing Transmission Type Fuel Type Kilometers Driven  \\\n",
       "0                  2018            Manual    Petrol         17,400 km   \n",
       "1                  2013            Manual    Diesel        200,000 km   \n",
       "2                  2008            Manual    Petrol         77,000 km   \n",
       "3                  2015            Manual    Diesel        105,000 km   \n",
       "4                  2007            Manual    Petrol         98,000 km   \n",
       "\n",
       "  No of Owners      Price Location  \n",
       "0          1st   6,90,000  Chennai  \n",
       "1          1st   6,80,000  Chennai  \n",
       "2          2nd   2,60,000  Chennai  \n",
       "3          1st   5,49,000  Chennai  \n",
       "4          2nd   2,10,000  Chennai  "
      ]
     },
     "execution_count": 2,
     "metadata": {},
     "output_type": "execute_result"
    }
   ],
   "source": [
    "#Loading the data-set\n",
    "df=pd.read_csv(\"car_price_csv_merged.csv\")\n",
    "df.head(5)"
   ]
  },
  {
   "cell_type": "code",
   "execution_count": 3,
   "metadata": {},
   "outputs": [
    {
     "data": {
      "text/plain": [
       "(15950, 12)"
      ]
     },
     "execution_count": 3,
     "metadata": {},
     "output_type": "execute_result"
    }
   ],
   "source": [
    "#checking the shape of the data-set\n",
    "df.shape"
   ]
  },
  {
   "cell_type": "markdown",
   "metadata": {},
   "source": [
    "# Data Cleaning :"
   ]
  },
  {
   "cell_type": "code",
   "execution_count": 4,
   "metadata": {},
   "outputs": [
    {
     "data": {
      "text/plain": [
       "Series([], Name: Variant, dtype: int64)"
      ]
     },
     "execution_count": 4,
     "metadata": {},
     "output_type": "execute_result"
    }
   ],
   "source": [
    "#checking the variant column\n",
    "df['Variant'].value_counts()"
   ]
  },
  {
   "cell_type": "markdown",
   "metadata": {},
   "source": [
    "Observations :\n",
    "    1. 'Variant' column doesnt have any data in it. so we can drop that column.\n",
    "    2. 'Unnamed: 0', 'Unnamed: 0.1' are 2 unwanted index columns."
   ]
  },
  {
   "cell_type": "code",
   "execution_count": 5,
   "metadata": {},
   "outputs": [
    {
     "data": {
      "text/html": [
       "<div>\n",
       "<style scoped>\n",
       "    .dataframe tbody tr th:only-of-type {\n",
       "        vertical-align: middle;\n",
       "    }\n",
       "\n",
       "    .dataframe tbody tr th {\n",
       "        vertical-align: top;\n",
       "    }\n",
       "\n",
       "    .dataframe thead th {\n",
       "        text-align: right;\n",
       "    }\n",
       "</style>\n",
       "<table border=\"1\" class=\"dataframe\">\n",
       "  <thead>\n",
       "    <tr style=\"text-align: right;\">\n",
       "      <th></th>\n",
       "      <th>Brand</th>\n",
       "      <th>Model</th>\n",
       "      <th>Year_of_Manufacturing</th>\n",
       "      <th>Transmission Type</th>\n",
       "      <th>Fuel Type</th>\n",
       "      <th>Kilometers Driven</th>\n",
       "      <th>No of Owners</th>\n",
       "      <th>Price</th>\n",
       "      <th>Location</th>\n",
       "    </tr>\n",
       "  </thead>\n",
       "  <tbody>\n",
       "    <tr>\n",
       "      <th>0</th>\n",
       "      <td>Maruti Suzuki</td>\n",
       "      <td>Swift Dzire</td>\n",
       "      <td>2018</td>\n",
       "      <td>Manual</td>\n",
       "      <td>Petrol</td>\n",
       "      <td>17,400 km</td>\n",
       "      <td>1st</td>\n",
       "      <td>6,90,000</td>\n",
       "      <td>Chennai</td>\n",
       "    </tr>\n",
       "    <tr>\n",
       "      <th>1</th>\n",
       "      <td>Toyota</td>\n",
       "      <td>Innova</td>\n",
       "      <td>2013</td>\n",
       "      <td>Manual</td>\n",
       "      <td>Diesel</td>\n",
       "      <td>200,000 km</td>\n",
       "      <td>1st</td>\n",
       "      <td>6,80,000</td>\n",
       "      <td>Chennai</td>\n",
       "    </tr>\n",
       "    <tr>\n",
       "      <th>2</th>\n",
       "      <td>Hyundai</td>\n",
       "      <td>i10</td>\n",
       "      <td>2008</td>\n",
       "      <td>Manual</td>\n",
       "      <td>Petrol</td>\n",
       "      <td>77,000 km</td>\n",
       "      <td>2nd</td>\n",
       "      <td>2,60,000</td>\n",
       "      <td>Chennai</td>\n",
       "    </tr>\n",
       "    <tr>\n",
       "      <th>3</th>\n",
       "      <td>Maruti Suzuki</td>\n",
       "      <td>Swift Dzire</td>\n",
       "      <td>2015</td>\n",
       "      <td>Manual</td>\n",
       "      <td>Diesel</td>\n",
       "      <td>105,000 km</td>\n",
       "      <td>1st</td>\n",
       "      <td>5,49,000</td>\n",
       "      <td>Chennai</td>\n",
       "    </tr>\n",
       "    <tr>\n",
       "      <th>4</th>\n",
       "      <td>Maruti Suzuki</td>\n",
       "      <td>SX4</td>\n",
       "      <td>2007</td>\n",
       "      <td>Manual</td>\n",
       "      <td>Petrol</td>\n",
       "      <td>98,000 km</td>\n",
       "      <td>2nd</td>\n",
       "      <td>2,10,000</td>\n",
       "      <td>Chennai</td>\n",
       "    </tr>\n",
       "  </tbody>\n",
       "</table>\n",
       "</div>"
      ],
      "text/plain": [
       "           Brand        Model Year_of_Manufacturing Transmission Type  \\\n",
       "0  Maruti Suzuki  Swift Dzire                  2018            Manual   \n",
       "1         Toyota       Innova                  2013            Manual   \n",
       "2        Hyundai          i10                  2008            Manual   \n",
       "3  Maruti Suzuki  Swift Dzire                  2015            Manual   \n",
       "4  Maruti Suzuki          SX4                  2007            Manual   \n",
       "\n",
       "  Fuel Type Kilometers Driven No of Owners      Price Location  \n",
       "0    Petrol         17,400 km          1st   6,90,000  Chennai  \n",
       "1    Diesel        200,000 km          1st   6,80,000  Chennai  \n",
       "2    Petrol         77,000 km          2nd   2,60,000  Chennai  \n",
       "3    Diesel        105,000 km          1st   5,49,000  Chennai  \n",
       "4    Petrol         98,000 km          2nd   2,10,000  Chennai  "
      ]
     },
     "execution_count": 5,
     "metadata": {},
     "output_type": "execute_result"
    }
   ],
   "source": [
    "#dropping the unwanted columns\n",
    "df.drop(['Unnamed: 0', 'Unnamed: 0.1', 'Variant'], inplace=True, axis = 1)\n",
    "df.head(5)"
   ]
  },
  {
   "cell_type": "code",
   "execution_count": 6,
   "metadata": {},
   "outputs": [],
   "source": [
    "##changing the dtype and striping the unwanted commas,words from the data\n",
    "\n",
    "#Kilometers Driven\n",
    "df['Kilometers Driven'] = df['Kilometers Driven'].str.replace('km','')\n",
    "df['Kilometers Driven'] = df['Kilometers Driven'].str.replace(',','')\n",
    "df['Kilometers Driven'] = df['Kilometers Driven'].str.replace('-','0')\n",
    "\n",
    "#converting into int\n",
    "df['Kilometers Driven'] = df['Kilometers Driven'].astype(int)"
   ]
  },
  {
   "cell_type": "code",
   "execution_count": 7,
   "metadata": {},
   "outputs": [
    {
     "data": {
      "text/plain": [
       "65577.26846394985"
      ]
     },
     "execution_count": 7,
     "metadata": {},
     "output_type": "execute_result"
    }
   ],
   "source": [
    "#finding mean for kms driven\n",
    "kmsmean = df['Kilometers Driven'].mean()\n",
    "kmsmean"
   ]
  },
  {
   "cell_type": "code",
   "execution_count": 8,
   "metadata": {},
   "outputs": [],
   "source": [
    "#Replacing 0 with mean value in kms driven\n",
    "df['Kilometers Driven'] = df['Kilometers Driven'].apply(lambda x: x if x!=0 else kmsmean)"
   ]
  },
  {
   "cell_type": "code",
   "execution_count": 9,
   "metadata": {},
   "outputs": [],
   "source": [
    "#Price\n",
    "df['Price'] = df['Price'].str.strip()\n",
    "df['Price'] = df['Price'].str.replace(',','')\n",
    "df['Price'] = df['Price'].str.replace('-','0')\n",
    "\n",
    "#converting into float\n",
    "df['Price'] = df['Price'].astype(float)"
   ]
  },
  {
   "cell_type": "code",
   "execution_count": 10,
   "metadata": {},
   "outputs": [
    {
     "data": {
      "text/plain": [
       "641895.2333542319"
      ]
     },
     "execution_count": 10,
     "metadata": {},
     "output_type": "execute_result"
    }
   ],
   "source": [
    "#finding mean for kms driven\n",
    "pricemean = df['Price'].mean()\n",
    "pricemean"
   ]
  },
  {
   "cell_type": "code",
   "execution_count": 11,
   "metadata": {},
   "outputs": [],
   "source": [
    "#Replacing 0 with mean value in kms driven\n",
    "df['Price'] = df['Price'].apply(lambda x: x if x!=0 else pricemean)"
   ]
  },
  {
   "cell_type": "code",
   "execution_count": 12,
   "metadata": {},
   "outputs": [],
   "source": [
    "#Year_of_Manufacturing\n",
    "df['Year_of_Manufacturing'] = df['Year_of_Manufacturing'].apply(lambda x: int(x.strip()[0:4]) if x!='-' else 0)\n",
    "\n",
    "# median year\n",
    "median_year=df['Year_of_Manufacturing'].median()\n",
    "\n",
    "#Replacing 0 with median value\n",
    "df['Year_of_Manufacturing'] = df['Year_of_Manufacturing'].apply(lambda x: x if x!=0 else median_year)\n",
    "\n",
    "#converting into int\n",
    "df['Year_of_Manufacturing'] = df['Year_of_Manufacturing'].astype(int)"
   ]
  },
  {
   "cell_type": "code",
   "execution_count": 13,
   "metadata": {},
   "outputs": [],
   "source": [
    "#No of Owners\n",
    "df['No of Owners'] = df['No of Owners'].str.replace('1st','1').replace('2nd','2').replace('3rd','3').replace('4th','4').replace('-','4+')"
   ]
  },
  {
   "cell_type": "code",
   "execution_count": 14,
   "metadata": {},
   "outputs": [
    {
     "data": {
      "text/plain": [
       "1     9310\n",
       "2     4102\n",
       "4+    1258\n",
       "3     1057\n",
       "4      223\n",
       "Name: No of Owners, dtype: int64"
      ]
     },
     "execution_count": 14,
     "metadata": {},
     "output_type": "execute_result"
    }
   ],
   "source": [
    "df['No of Owners'].value_counts()"
   ]
  },
  {
   "cell_type": "code",
   "execution_count": 15,
   "metadata": {},
   "outputs": [
    {
     "data": {
      "text/plain": [
       "Diesel           7217\n",
       "Petrol           7150\n",
       "-                 856\n",
       "CNG & Hybrids     593\n",
       "LPG               127\n",
       "Electric            7\n",
       "Name: Fuel Type, dtype: int64"
      ]
     },
     "execution_count": 15,
     "metadata": {},
     "output_type": "execute_result"
    }
   ],
   "source": [
    "# Fuel Type\n",
    "\n",
    "df['Fuel Type'].value_counts()"
   ]
  },
  {
   "cell_type": "code",
   "execution_count": 16,
   "metadata": {},
   "outputs": [
    {
     "data": {
      "text/plain": [
       "0    Diesel\n",
       "dtype: object"
      ]
     },
     "execution_count": 16,
     "metadata": {},
     "output_type": "execute_result"
    }
   ],
   "source": [
    "# mode for fuel\n",
    "Fuel_mode = df['Fuel Type'].mode()\n",
    "Fuel_mode"
   ]
  },
  {
   "cell_type": "code",
   "execution_count": 17,
   "metadata": {},
   "outputs": [
    {
     "data": {
      "text/plain": [
       "Diesel           8073\n",
       "Petrol           7150\n",
       "CNG & Hybrids     593\n",
       "LPG               127\n",
       "Electric            7\n",
       "Name: Fuel Type, dtype: int64"
      ]
     },
     "execution_count": 17,
     "metadata": {},
     "output_type": "execute_result"
    }
   ],
   "source": [
    "# Fuel type \n",
    "df['Fuel Type'] = df['Fuel Type'].apply(lambda x: x if x!='-' else 0)\n",
    "\n",
    "#Replacing 0 with mode value\n",
    "df['Fuel Type'] = df['Fuel Type'].apply(lambda x: x if x!=0 else \"Diesel\")\n",
    "\n",
    "df['Fuel Type'].value_counts()"
   ]
  },
  {
   "cell_type": "code",
   "execution_count": 18,
   "metadata": {},
   "outputs": [
    {
     "data": {
      "text/plain": [
       "Manual       11849\n",
       "Automatic     2959\n",
       "-             1142\n",
       "Name: Transmission Type, dtype: int64"
      ]
     },
     "execution_count": 18,
     "metadata": {},
     "output_type": "execute_result"
    }
   ],
   "source": [
    "# Transmission Type\n",
    "df['Transmission Type'].value_counts()"
   ]
  },
  {
   "cell_type": "code",
   "execution_count": 19,
   "metadata": {},
   "outputs": [
    {
     "data": {
      "text/plain": [
       "Manual       12991\n",
       "Automatic     2959\n",
       "Name: Transmission Type, dtype: int64"
      ]
     },
     "execution_count": 19,
     "metadata": {},
     "output_type": "execute_result"
    }
   ],
   "source": [
    "#replacing the \"-\" with manual\n",
    "df['Transmission Type'] = df['Transmission Type'].apply(lambda x: x if x!='-' else 'Manual')\n",
    "\n",
    "df['Transmission Type'].value_counts()"
   ]
  },
  {
   "cell_type": "code",
   "execution_count": 20,
   "metadata": {},
   "outputs": [
    {
     "data": {
      "text/plain": [
       "Maruti Suzuki       4836\n",
       "Hyundai             2565\n",
       "Toyota              1263\n",
       "Mahindra            1137\n",
       "Honda                922\n",
       "-                    689\n",
       "Tata                 685\n",
       "Ford                 658\n",
       "Volkswagen           540\n",
       "Audi                 364\n",
       "Mercedes-Benz        347\n",
       "Renault              317\n",
       "Chevrolet            276\n",
       "Skoda                248\n",
       "BMW                  199\n",
       "Nissan               183\n",
       "Datsun                87\n",
       "Jeep                  80\n",
       "Land Rover            75\n",
       "Kia                   63\n",
       "Jaguar                56\n",
       "Other Brands          52\n",
       "Fiat                  41\n",
       "Bajaj                 35\n",
       "Volvo                 29\n",
       "Ambassador            26\n",
       "Mini                  24\n",
       "Ashok Leyland         23\n",
       "MG                    23\n",
       "Mitsubishi            21\n",
       "Force Motors          20\n",
       "Porsche               19\n",
       "Opel                  18\n",
       "Isuzu                 16\n",
       "Mahindra Renault       8\n",
       "Premier                5\n",
       "Name: Brand, dtype: int64"
      ]
     },
     "execution_count": 20,
     "metadata": {},
     "output_type": "execute_result"
    }
   ],
   "source": [
    "# Brand\n",
    "df['Brand'].value_counts()"
   ]
  },
  {
   "cell_type": "code",
   "execution_count": 21,
   "metadata": {
    "scrolled": false
   },
   "outputs": [
    {
     "data": {
      "text/plain": [
       "Maruti Suzuki       4836\n",
       "Hyundai             2565\n",
       "Toyota              1263\n",
       "Mahindra            1137\n",
       "Honda                922\n",
       "others               689\n",
       "Tata                 685\n",
       "Ford                 658\n",
       "Volkswagen           540\n",
       "Audi                 364\n",
       "Mercedes-Benz        347\n",
       "Renault              317\n",
       "Chevrolet            276\n",
       "Skoda                248\n",
       "BMW                  199\n",
       "Nissan               183\n",
       "Datsun                87\n",
       "Jeep                  80\n",
       "Land Rover            75\n",
       "Kia                   63\n",
       "Jaguar                56\n",
       "Other Brands          52\n",
       "Fiat                  41\n",
       "Bajaj                 35\n",
       "Volvo                 29\n",
       "Ambassador            26\n",
       "Mini                  24\n",
       "MG                    23\n",
       "Ashok Leyland         23\n",
       "Mitsubishi            21\n",
       "Force Motors          20\n",
       "Porsche               19\n",
       "Opel                  18\n",
       "Isuzu                 16\n",
       "Mahindra Renault       8\n",
       "Premier                5\n",
       "Name: Brand, dtype: int64"
      ]
     },
     "execution_count": 21,
     "metadata": {},
     "output_type": "execute_result"
    }
   ],
   "source": [
    "#replacing the \"-\" with others\n",
    "df['Brand'] = df['Brand'].apply(lambda x: x if x!='-' else 'others')\n",
    "df['Brand'].value_counts()"
   ]
  },
  {
   "cell_type": "code",
   "execution_count": 22,
   "metadata": {},
   "outputs": [
    {
     "data": {
      "text/plain": [
       "Swift           852\n",
       "-               689\n",
       "Swift Dzire     530\n",
       "Innova          448\n",
       "Wagon R         401\n",
       "               ... \n",
       "Land Cruiser      2\n",
       "Marshal           2\n",
       "Punto             2\n",
       "Gypsy             2\n",
       "XL6               2\n",
       "Name: Model, Length: 252, dtype: int64"
      ]
     },
     "execution_count": 22,
     "metadata": {},
     "output_type": "execute_result"
    }
   ],
   "source": [
    "# Model\n",
    "df['Model'].value_counts()"
   ]
  },
  {
   "cell_type": "code",
   "execution_count": 23,
   "metadata": {},
   "outputs": [
    {
     "data": {
      "text/plain": [
       "Swift           852\n",
       "others          689\n",
       "Swift Dzire     530\n",
       "Innova          448\n",
       "Wagon R         401\n",
       "               ... \n",
       "Land Cruiser      2\n",
       "Punto             2\n",
       "Marshal           2\n",
       "Gypsy             2\n",
       "XL6               2\n",
       "Name: Model, Length: 252, dtype: int64"
      ]
     },
     "execution_count": 23,
     "metadata": {},
     "output_type": "execute_result"
    }
   ],
   "source": [
    "#replacing the \"-\" with others in Model\n",
    "df['Model'] = df['Model'].apply(lambda x: x if x!='-' else 'others')\n",
    "df['Model'].value_counts()"
   ]
  },
  {
   "cell_type": "code",
   "execution_count": 24,
   "metadata": {},
   "outputs": [
    {
     "data": {
      "text/plain": [
       "Delhi        3864\n",
       "Mumbai       3202\n",
       "Chennai      3185\n",
       "karnataka    3102\n",
       "kerala       2597\n",
       "Name: Location, dtype: int64"
      ]
     },
     "execution_count": 24,
     "metadata": {},
     "output_type": "execute_result"
    }
   ],
   "source": [
    "# Location\n",
    "df['Location'].value_counts()"
   ]
  },
  {
   "cell_type": "code",
   "execution_count": 25,
   "metadata": {},
   "outputs": [
    {
     "data": {
      "text/plain": [
       "Brand                     object\n",
       "Model                     object\n",
       "Year_of_Manufacturing      int32\n",
       "Transmission Type         object\n",
       "Fuel Type                 object\n",
       "Kilometers Driven        float64\n",
       "No of Owners              object\n",
       "Price                    float64\n",
       "Location                  object\n",
       "dtype: object"
      ]
     },
     "execution_count": 25,
     "metadata": {},
     "output_type": "execute_result"
    }
   ],
   "source": [
    "df.dtypes"
   ]
  },
  {
   "cell_type": "code",
   "execution_count": 26,
   "metadata": {},
   "outputs": [
    {
     "data": {
      "text/html": [
       "<div>\n",
       "<style scoped>\n",
       "    .dataframe tbody tr th:only-of-type {\n",
       "        vertical-align: middle;\n",
       "    }\n",
       "\n",
       "    .dataframe tbody tr th {\n",
       "        vertical-align: top;\n",
       "    }\n",
       "\n",
       "    .dataframe thead th {\n",
       "        text-align: right;\n",
       "    }\n",
       "</style>\n",
       "<table border=\"1\" class=\"dataframe\">\n",
       "  <thead>\n",
       "    <tr style=\"text-align: right;\">\n",
       "      <th></th>\n",
       "      <th>Brand</th>\n",
       "      <th>Model</th>\n",
       "      <th>Year_of_Manufacturing</th>\n",
       "      <th>Transmission Type</th>\n",
       "      <th>Fuel Type</th>\n",
       "      <th>Kilometers Driven</th>\n",
       "      <th>No of Owners</th>\n",
       "      <th>Price</th>\n",
       "      <th>Location</th>\n",
       "    </tr>\n",
       "  </thead>\n",
       "  <tbody>\n",
       "    <tr>\n",
       "      <th>0</th>\n",
       "      <td>Maruti Suzuki</td>\n",
       "      <td>Swift Dzire</td>\n",
       "      <td>2018</td>\n",
       "      <td>Manual</td>\n",
       "      <td>Petrol</td>\n",
       "      <td>17400.0</td>\n",
       "      <td>1</td>\n",
       "      <td>690000.0</td>\n",
       "      <td>Chennai</td>\n",
       "    </tr>\n",
       "    <tr>\n",
       "      <th>1</th>\n",
       "      <td>Toyota</td>\n",
       "      <td>Innova</td>\n",
       "      <td>2013</td>\n",
       "      <td>Manual</td>\n",
       "      <td>Diesel</td>\n",
       "      <td>200000.0</td>\n",
       "      <td>1</td>\n",
       "      <td>680000.0</td>\n",
       "      <td>Chennai</td>\n",
       "    </tr>\n",
       "    <tr>\n",
       "      <th>2</th>\n",
       "      <td>Hyundai</td>\n",
       "      <td>i10</td>\n",
       "      <td>2008</td>\n",
       "      <td>Manual</td>\n",
       "      <td>Petrol</td>\n",
       "      <td>77000.0</td>\n",
       "      <td>2</td>\n",
       "      <td>260000.0</td>\n",
       "      <td>Chennai</td>\n",
       "    </tr>\n",
       "    <tr>\n",
       "      <th>3</th>\n",
       "      <td>Maruti Suzuki</td>\n",
       "      <td>Swift Dzire</td>\n",
       "      <td>2015</td>\n",
       "      <td>Manual</td>\n",
       "      <td>Diesel</td>\n",
       "      <td>105000.0</td>\n",
       "      <td>1</td>\n",
       "      <td>549000.0</td>\n",
       "      <td>Chennai</td>\n",
       "    </tr>\n",
       "    <tr>\n",
       "      <th>4</th>\n",
       "      <td>Maruti Suzuki</td>\n",
       "      <td>SX4</td>\n",
       "      <td>2007</td>\n",
       "      <td>Manual</td>\n",
       "      <td>Petrol</td>\n",
       "      <td>98000.0</td>\n",
       "      <td>2</td>\n",
       "      <td>210000.0</td>\n",
       "      <td>Chennai</td>\n",
       "    </tr>\n",
       "    <tr>\n",
       "      <th>5</th>\n",
       "      <td>Mahindra</td>\n",
       "      <td>Xylo</td>\n",
       "      <td>2012</td>\n",
       "      <td>Manual</td>\n",
       "      <td>Diesel</td>\n",
       "      <td>150000.0</td>\n",
       "      <td>3</td>\n",
       "      <td>540000.0</td>\n",
       "      <td>Chennai</td>\n",
       "    </tr>\n",
       "    <tr>\n",
       "      <th>6</th>\n",
       "      <td>Hyundai</td>\n",
       "      <td>Santro Xing</td>\n",
       "      <td>2010</td>\n",
       "      <td>Manual</td>\n",
       "      <td>Petrol</td>\n",
       "      <td>70000.0</td>\n",
       "      <td>1</td>\n",
       "      <td>180000.0</td>\n",
       "      <td>Chennai</td>\n",
       "    </tr>\n",
       "    <tr>\n",
       "      <th>7</th>\n",
       "      <td>Maruti Suzuki</td>\n",
       "      <td>Eeco</td>\n",
       "      <td>2011</td>\n",
       "      <td>Manual</td>\n",
       "      <td>Petrol</td>\n",
       "      <td>82000.0</td>\n",
       "      <td>1</td>\n",
       "      <td>230000.0</td>\n",
       "      <td>Chennai</td>\n",
       "    </tr>\n",
       "    <tr>\n",
       "      <th>8</th>\n",
       "      <td>Maruti Suzuki</td>\n",
       "      <td>Alto K10</td>\n",
       "      <td>2017</td>\n",
       "      <td>Manual</td>\n",
       "      <td>Petrol</td>\n",
       "      <td>19000.0</td>\n",
       "      <td>1</td>\n",
       "      <td>360000.0</td>\n",
       "      <td>Chennai</td>\n",
       "    </tr>\n",
       "    <tr>\n",
       "      <th>9</th>\n",
       "      <td>Maruti Suzuki</td>\n",
       "      <td>Swift Dzire Tour</td>\n",
       "      <td>2018</td>\n",
       "      <td>Manual</td>\n",
       "      <td>Diesel</td>\n",
       "      <td>67000.0</td>\n",
       "      <td>1</td>\n",
       "      <td>575000.0</td>\n",
       "      <td>Chennai</td>\n",
       "    </tr>\n",
       "  </tbody>\n",
       "</table>\n",
       "</div>"
      ],
      "text/plain": [
       "           Brand             Model  Year_of_Manufacturing Transmission Type  \\\n",
       "0  Maruti Suzuki       Swift Dzire                   2018            Manual   \n",
       "1         Toyota            Innova                   2013            Manual   \n",
       "2        Hyundai               i10                   2008            Manual   \n",
       "3  Maruti Suzuki       Swift Dzire                   2015            Manual   \n",
       "4  Maruti Suzuki               SX4                   2007            Manual   \n",
       "5       Mahindra              Xylo                   2012            Manual   \n",
       "6        Hyundai       Santro Xing                   2010            Manual   \n",
       "7  Maruti Suzuki              Eeco                   2011            Manual   \n",
       "8  Maruti Suzuki          Alto K10                   2017            Manual   \n",
       "9  Maruti Suzuki  Swift Dzire Tour                   2018            Manual   \n",
       "\n",
       "  Fuel Type  Kilometers Driven No of Owners     Price Location  \n",
       "0    Petrol            17400.0            1  690000.0  Chennai  \n",
       "1    Diesel           200000.0            1  680000.0  Chennai  \n",
       "2    Petrol            77000.0            2  260000.0  Chennai  \n",
       "3    Diesel           105000.0            1  549000.0  Chennai  \n",
       "4    Petrol            98000.0            2  210000.0  Chennai  \n",
       "5    Diesel           150000.0            3  540000.0  Chennai  \n",
       "6    Petrol            70000.0            1  180000.0  Chennai  \n",
       "7    Petrol            82000.0            1  230000.0  Chennai  \n",
       "8    Petrol            19000.0            1  360000.0  Chennai  \n",
       "9    Diesel            67000.0            1  575000.0  Chennai  "
      ]
     },
     "execution_count": 26,
     "metadata": {},
     "output_type": "execute_result"
    }
   ],
   "source": [
    "df.head(10)"
   ]
  },
  {
   "cell_type": "code",
   "execution_count": 27,
   "metadata": {},
   "outputs": [
    {
     "data": {
      "text/plain": [
       "['Brand',\n",
       " 'Model',\n",
       " 'Year_of_Manufacturing',\n",
       " 'Transmission Type',\n",
       " 'Fuel Type',\n",
       " 'Kilometers Driven',\n",
       " 'No of Owners',\n",
       " 'Price',\n",
       " 'Location']"
      ]
     },
     "execution_count": 27,
     "metadata": {},
     "output_type": "execute_result"
    }
   ],
   "source": [
    "#checking all the column names\n",
    "list(df.columns)"
   ]
  },
  {
   "cell_type": "code",
   "execution_count": 28,
   "metadata": {},
   "outputs": [
    {
     "data": {
      "text/html": [
       "<div>\n",
       "<style scoped>\n",
       "    .dataframe tbody tr th:only-of-type {\n",
       "        vertical-align: middle;\n",
       "    }\n",
       "\n",
       "    .dataframe tbody tr th {\n",
       "        vertical-align: top;\n",
       "    }\n",
       "\n",
       "    .dataframe thead th {\n",
       "        text-align: right;\n",
       "    }\n",
       "</style>\n",
       "<table border=\"1\" class=\"dataframe\">\n",
       "  <thead>\n",
       "    <tr style=\"text-align: right;\">\n",
       "      <th></th>\n",
       "      <th>Brand</th>\n",
       "      <th>Model</th>\n",
       "      <th>Year_of_Manufacturing</th>\n",
       "      <th>Transmission Type</th>\n",
       "      <th>Fuel Type</th>\n",
       "      <th>Kilometers Driven</th>\n",
       "      <th>No of Owners</th>\n",
       "      <th>Location</th>\n",
       "      <th>Price</th>\n",
       "    </tr>\n",
       "  </thead>\n",
       "  <tbody>\n",
       "    <tr>\n",
       "      <th>4762</th>\n",
       "      <td>Hyundai</td>\n",
       "      <td>Grand i10</td>\n",
       "      <td>2018</td>\n",
       "      <td>Manual</td>\n",
       "      <td>CNG &amp; Hybrids</td>\n",
       "      <td>45000.0</td>\n",
       "      <td>1</td>\n",
       "      <td>Delhi</td>\n",
       "      <td>525000.0</td>\n",
       "    </tr>\n",
       "    <tr>\n",
       "      <th>10647</th>\n",
       "      <td>Mahindra Renault</td>\n",
       "      <td>Logan</td>\n",
       "      <td>2009</td>\n",
       "      <td>Manual</td>\n",
       "      <td>Diesel</td>\n",
       "      <td>95000.0</td>\n",
       "      <td>2</td>\n",
       "      <td>kerala</td>\n",
       "      <td>109000.0</td>\n",
       "    </tr>\n",
       "    <tr>\n",
       "      <th>15601</th>\n",
       "      <td>Chevrolet</td>\n",
       "      <td>Enjoy</td>\n",
       "      <td>2014</td>\n",
       "      <td>Manual</td>\n",
       "      <td>Diesel</td>\n",
       "      <td>70123.0</td>\n",
       "      <td>1</td>\n",
       "      <td>Mumbai</td>\n",
       "      <td>325000.0</td>\n",
       "    </tr>\n",
       "    <tr>\n",
       "      <th>3354</th>\n",
       "      <td>Maruti Suzuki</td>\n",
       "      <td>Ciaz</td>\n",
       "      <td>2016</td>\n",
       "      <td>Manual</td>\n",
       "      <td>Petrol</td>\n",
       "      <td>45000.0</td>\n",
       "      <td>1</td>\n",
       "      <td>Delhi</td>\n",
       "      <td>665000.0</td>\n",
       "    </tr>\n",
       "    <tr>\n",
       "      <th>15226</th>\n",
       "      <td>Honda</td>\n",
       "      <td>Amaze</td>\n",
       "      <td>2016</td>\n",
       "      <td>Manual</td>\n",
       "      <td>Petrol</td>\n",
       "      <td>61906.0</td>\n",
       "      <td>1</td>\n",
       "      <td>Mumbai</td>\n",
       "      <td>445000.0</td>\n",
       "    </tr>\n",
       "  </tbody>\n",
       "</table>\n",
       "</div>"
      ],
      "text/plain": [
       "                  Brand      Model  Year_of_Manufacturing Transmission Type  \\\n",
       "4762            Hyundai  Grand i10                   2018            Manual   \n",
       "10647  Mahindra Renault      Logan                   2009            Manual   \n",
       "15601         Chevrolet      Enjoy                   2014            Manual   \n",
       "3354      Maruti Suzuki       Ciaz                   2016            Manual   \n",
       "15226             Honda      Amaze                   2016            Manual   \n",
       "\n",
       "           Fuel Type  Kilometers Driven No of Owners Location     Price  \n",
       "4762   CNG & Hybrids            45000.0            1    Delhi  525000.0  \n",
       "10647         Diesel            95000.0            2   kerala  109000.0  \n",
       "15601         Diesel            70123.0            1   Mumbai  325000.0  \n",
       "3354          Petrol            45000.0            1    Delhi  665000.0  \n",
       "15226         Petrol            61906.0            1   Mumbai  445000.0  "
      ]
     },
     "execution_count": 28,
     "metadata": {},
     "output_type": "execute_result"
    }
   ],
   "source": [
    "df = df[['Brand', 'Model', 'Year_of_Manufacturing', 'Transmission Type', 'Fuel Type', 'Kilometers Driven', 'No of Owners', 'Location', 'Price']]\n",
    "df.sample(5)"
   ]
  },
  {
   "cell_type": "code",
   "execution_count": 29,
   "metadata": {},
   "outputs": [
    {
     "data": {
      "text/plain": [
       "689"
      ]
     },
     "execution_count": 29,
     "metadata": {},
     "output_type": "execute_result"
    }
   ],
   "source": [
    "(df['Brand'] == 'others').sum()"
   ]
  },
  {
   "cell_type": "code",
   "execution_count": 30,
   "metadata": {},
   "outputs": [
    {
     "data": {
      "text/plain": [
       "(15950, 9)"
      ]
     },
     "execution_count": 30,
     "metadata": {},
     "output_type": "execute_result"
    }
   ],
   "source": [
    "df.shape"
   ]
  },
  {
   "cell_type": "code",
   "execution_count": 31,
   "metadata": {},
   "outputs": [],
   "source": [
    "#df.drop(df[df['Age'] < 25].index, inplace = True)"
   ]
  },
  {
   "cell_type": "code",
   "execution_count": 32,
   "metadata": {},
   "outputs": [],
   "source": [
    "drop689 = df[df['Brand'] == 'others'].index\n",
    "df.drop(drop689, inplace = True)"
   ]
  },
  {
   "cell_type": "code",
   "execution_count": 33,
   "metadata": {},
   "outputs": [
    {
     "data": {
      "text/plain": [
       "(15261, 9)"
      ]
     },
     "execution_count": 33,
     "metadata": {},
     "output_type": "execute_result"
    }
   ],
   "source": [
    "df.shape"
   ]
  },
  {
   "cell_type": "code",
   "execution_count": 35,
   "metadata": {},
   "outputs": [
    {
     "data": {
      "text/plain": [
       "0"
      ]
     },
     "execution_count": 35,
     "metadata": {},
     "output_type": "execute_result"
    }
   ],
   "source": [
    "(df['Brand'] == 'others').sum()"
   ]
  },
  {
   "cell_type": "code",
   "execution_count": 36,
   "metadata": {},
   "outputs": [
    {
     "name": "stdout",
     "output_type": "stream",
     "text": [
      "<class 'pandas.core.frame.DataFrame'>\n",
      "Int64Index: 15261 entries, 0 to 15938\n",
      "Data columns (total 9 columns):\n",
      " #   Column                 Non-Null Count  Dtype  \n",
      "---  ------                 --------------  -----  \n",
      " 0   Brand                  15261 non-null  object \n",
      " 1   Model                  15261 non-null  object \n",
      " 2   Year_of_Manufacturing  15261 non-null  int32  \n",
      " 3   Transmission Type      15261 non-null  object \n",
      " 4   Fuel Type              15261 non-null  object \n",
      " 5   Kilometers Driven      15261 non-null  float64\n",
      " 6   No of Owners           15261 non-null  object \n",
      " 7   Location               15261 non-null  object \n",
      " 8   Price                  15261 non-null  float64\n",
      "dtypes: float64(2), int32(1), object(6)\n",
      "memory usage: 1.1+ MB\n"
     ]
    }
   ],
   "source": [
    "#checking the data type and null values of the variables in the data-set\n",
    "df.info()"
   ]
  },
  {
   "cell_type": "code",
   "execution_count": 37,
   "metadata": {},
   "outputs": [
    {
     "data": {
      "text/html": [
       "<div>\n",
       "<style scoped>\n",
       "    .dataframe tbody tr th:only-of-type {\n",
       "        vertical-align: middle;\n",
       "    }\n",
       "\n",
       "    .dataframe tbody tr th {\n",
       "        vertical-align: top;\n",
       "    }\n",
       "\n",
       "    .dataframe thead th {\n",
       "        text-align: right;\n",
       "    }\n",
       "</style>\n",
       "<table border=\"1\" class=\"dataframe\">\n",
       "  <thead>\n",
       "    <tr style=\"text-align: right;\">\n",
       "      <th></th>\n",
       "      <th>count</th>\n",
       "      <th>mean</th>\n",
       "      <th>std</th>\n",
       "      <th>min</th>\n",
       "      <th>25%</th>\n",
       "      <th>50%</th>\n",
       "      <th>75%</th>\n",
       "      <th>max</th>\n",
       "    </tr>\n",
       "  </thead>\n",
       "  <tbody>\n",
       "    <tr>\n",
       "      <th>Year_of_Manufacturing</th>\n",
       "      <td>15261.0</td>\n",
       "      <td>2013.142848</td>\n",
       "      <td>4.542378</td>\n",
       "      <td>1980.0</td>\n",
       "      <td>2011.0</td>\n",
       "      <td>2014.0</td>\n",
       "      <td>2017.0</td>\n",
       "      <td>2021.0</td>\n",
       "    </tr>\n",
       "    <tr>\n",
       "      <th>Kilometers Driven</th>\n",
       "      <td>15261.0</td>\n",
       "      <td>68890.293429</td>\n",
       "      <td>54723.587433</td>\n",
       "      <td>1.0</td>\n",
       "      <td>40123.0</td>\n",
       "      <td>64000.0</td>\n",
       "      <td>85000.0</td>\n",
       "      <td>970000.0</td>\n",
       "    </tr>\n",
       "    <tr>\n",
       "      <th>Price</th>\n",
       "      <td>15261.0</td>\n",
       "      <td>670875.366752</td>\n",
       "      <td>886589.207986</td>\n",
       "      <td>15000.0</td>\n",
       "      <td>260000.0</td>\n",
       "      <td>450000.0</td>\n",
       "      <td>722222.0</td>\n",
       "      <td>16500000.0</td>\n",
       "    </tr>\n",
       "  </tbody>\n",
       "</table>\n",
       "</div>"
      ],
      "text/plain": [
       "                         count           mean            std      min  \\\n",
       "Year_of_Manufacturing  15261.0    2013.142848       4.542378   1980.0   \n",
       "Kilometers Driven      15261.0   68890.293429   54723.587433      1.0   \n",
       "Price                  15261.0  670875.366752  886589.207986  15000.0   \n",
       "\n",
       "                            25%       50%       75%         max  \n",
       "Year_of_Manufacturing    2011.0    2014.0    2017.0      2021.0  \n",
       "Kilometers Driven       40123.0   64000.0   85000.0    970000.0  \n",
       "Price                  260000.0  450000.0  722222.0  16500000.0  "
      ]
     },
     "execution_count": 37,
     "metadata": {},
     "output_type": "execute_result"
    }
   ],
   "source": [
    "df.describe().T"
   ]
  },
  {
   "cell_type": "code",
   "execution_count": 38,
   "metadata": {},
   "outputs": [
    {
     "data": {
      "text/html": [
       "<div>\n",
       "<style scoped>\n",
       "    .dataframe tbody tr th:only-of-type {\n",
       "        vertical-align: middle;\n",
       "    }\n",
       "\n",
       "    .dataframe tbody tr th {\n",
       "        vertical-align: top;\n",
       "    }\n",
       "\n",
       "    .dataframe thead th {\n",
       "        text-align: right;\n",
       "    }\n",
       "</style>\n",
       "<table border=\"1\" class=\"dataframe\">\n",
       "  <thead>\n",
       "    <tr style=\"text-align: right;\">\n",
       "      <th></th>\n",
       "      <th>count</th>\n",
       "      <th>unique</th>\n",
       "      <th>top</th>\n",
       "      <th>freq</th>\n",
       "    </tr>\n",
       "  </thead>\n",
       "  <tbody>\n",
       "    <tr>\n",
       "      <th>Brand</th>\n",
       "      <td>15261</td>\n",
       "      <td>35</td>\n",
       "      <td>Maruti Suzuki</td>\n",
       "      <td>4836</td>\n",
       "    </tr>\n",
       "    <tr>\n",
       "      <th>Model</th>\n",
       "      <td>15261</td>\n",
       "      <td>251</td>\n",
       "      <td>Swift</td>\n",
       "      <td>852</td>\n",
       "    </tr>\n",
       "    <tr>\n",
       "      <th>Transmission Type</th>\n",
       "      <td>15261</td>\n",
       "      <td>2</td>\n",
       "      <td>Manual</td>\n",
       "      <td>12302</td>\n",
       "    </tr>\n",
       "    <tr>\n",
       "      <th>Fuel Type</th>\n",
       "      <td>15261</td>\n",
       "      <td>5</td>\n",
       "      <td>Diesel</td>\n",
       "      <td>7384</td>\n",
       "    </tr>\n",
       "    <tr>\n",
       "      <th>No of Owners</th>\n",
       "      <td>15261</td>\n",
       "      <td>5</td>\n",
       "      <td>1</td>\n",
       "      <td>9310</td>\n",
       "    </tr>\n",
       "    <tr>\n",
       "      <th>Location</th>\n",
       "      <td>15261</td>\n",
       "      <td>5</td>\n",
       "      <td>Delhi</td>\n",
       "      <td>3690</td>\n",
       "    </tr>\n",
       "  </tbody>\n",
       "</table>\n",
       "</div>"
      ],
      "text/plain": [
       "                   count unique            top   freq\n",
       "Brand              15261     35  Maruti Suzuki   4836\n",
       "Model              15261    251          Swift    852\n",
       "Transmission Type  15261      2         Manual  12302\n",
       "Fuel Type          15261      5         Diesel   7384\n",
       "No of Owners       15261      5              1   9310\n",
       "Location           15261      5          Delhi   3690"
      ]
     },
     "execution_count": 38,
     "metadata": {},
     "output_type": "execute_result"
    }
   ],
   "source": [
    "# Describing object types\n",
    "df.describe(include='object').T"
   ]
  },
  {
   "cell_type": "markdown",
   "metadata": {},
   "source": [
    "# Handling the Null Values :"
   ]
  },
  {
   "cell_type": "code",
   "execution_count": 39,
   "metadata": {},
   "outputs": [
    {
     "name": "stdout",
     "output_type": "stream",
     "text": [
      "\n",
      "Title : Brand \n",
      "NaN val: 0\n",
      "\n",
      "Title : Model \n",
      "NaN val: 0\n",
      "\n",
      "Title : Year_of_Manufacturing \n",
      "NaN val: 0\n",
      "\n",
      "Title : Transmission Type \n",
      "NaN val: 0\n",
      "\n",
      "Title : Fuel Type \n",
      "NaN val: 0\n",
      "\n",
      "Title : Kilometers Driven \n",
      "NaN val: 0\n",
      "\n",
      "Title : No of Owners \n",
      "NaN val: 0\n",
      "\n",
      "Title : Location \n",
      "NaN val: 0\n",
      "\n",
      "Title : Price \n",
      "NaN val: 0\n"
     ]
    }
   ],
   "source": [
    "#checking the null values \n",
    "for col in df.columns:print(\"\\nTitle :\",col,\"\\nNaN val:\",df[col].isnull().sum())"
   ]
  },
  {
   "cell_type": "code",
   "execution_count": 41,
   "metadata": {},
   "outputs": [
    {
     "data": {
      "text/plain": [
       "<matplotlib.axes._subplots.AxesSubplot at 0x13c7747d970>"
      ]
     },
     "execution_count": 41,
     "metadata": {},
     "output_type": "execute_result"
    },
    {
     "data": {
      "image/png": "[encoded data removed]",
      "text/plain": [
       "<Figure size 1800x720 with 1 Axes>"
      ]
     },
     "metadata": {
      "needs_background": "light"
     },
     "output_type": "display_data"
    }
   ],
   "source": [
    "# Program to visualize missing values in dataset\n",
    "# Importing the libraries\n",
    "import missingno as msno\n",
    "# Visualize missing values as a matrix\n",
    "msno.matrix(df,labels=True, sparkline=False, figsize=(25,10), fontsize=15, color=(0.27, 0.52, 1.0))"
   ]
  },
  {
   "cell_type": "markdown",
   "metadata": {},
   "source": [
    "# Correlation with target variable"
   ]
  },
  {
   "cell_type": "code",
   "execution_count": 46,
   "metadata": {},
   "outputs": [
    {
     "data": {
      "text/plain": [
       "Text(0.5, 1.0, 'Correlation with target variable')"
      ]
     },
     "execution_count": 46,
     "metadata": {},
     "output_type": "execute_result"
    },
    {
     "data": {
      "image/png": "[encoded data removed]",
      "text/plain": [
       "<Figure size 720x576 with 1 Axes>"
      ]
     },
     "metadata": {
      "needs_background": "light"
     },
     "output_type": "display_data"
    }
   ],
   "source": [
    "plt.figure(figsize=(10,8))\n",
    "df.drop( 'Price', axis=1 ).corrwith( df['Price'] ).plot( kind='bar', grid=True )\n",
    "plt.xticks(rotation=90)\n",
    "plt.title(\"Correlation with target variable\",fontsize=20)"
   ]
  },
  {
   "cell_type": "markdown",
   "metadata": {},
   "source": [
    "# Catagorical Variables :"
   ]
  },
  {
   "cell_type": "code",
   "execution_count": 47,
   "metadata": {},
   "outputs": [
    {
     "data": {
      "text/plain": [
       "['Brand',\n",
       " 'Model',\n",
       " 'Transmission Type',\n",
       " 'Fuel Type',\n",
       " 'No of Owners',\n",
       " 'Location']"
      ]
     },
     "execution_count": 47,
     "metadata": {},
     "output_type": "execute_result"
    }
   ],
   "source": [
    "cat_List = [x for x in df.columns if df[x].dtype==object]\n",
    "list (cat_List)"
   ]
  },
  {
   "cell_type": "markdown",
   "metadata": {},
   "source": [
    "# Continous Variables :"
   ]
  },
  {
   "cell_type": "code",
   "execution_count": 48,
   "metadata": {},
   "outputs": [
    {
     "data": {
      "text/plain": [
       "['Year_of_Manufacturing', 'Kilometers Driven', 'Price']"
      ]
     },
     "execution_count": 48,
     "metadata": {},
     "output_type": "execute_result"
    }
   ],
   "source": [
    "num_List = [x for x in df.columns if x not in cat_List]\n",
    "list (num_List)"
   ]
  },
  {
   "cell_type": "markdown",
   "metadata": {},
   "source": [
    "# DATA VISUALIZATION :"
   ]
  },
  {
   "cell_type": "markdown",
   "metadata": {},
   "source": [
    "UNI-VARIATE ANALYSIS :"
   ]
  },
  {
   "cell_type": "code",
   "execution_count": 56,
   "metadata": {
    "scrolled": false
   },
   "outputs": [
    {
     "data": {
      "image/png": "[encoded data removed]",
      "text/plain": [
       "<Figure size 2520x1080 with 1 Axes>"
      ]
     },
     "metadata": {
      "needs_background": "light"
     },
     "output_type": "display_data"
    },
    {
     "data": {
      "image/png": "[encoded data removed]",
      "text/plain": [
       "<Figure size 2520x1080 with 1 Axes>"
      ]
     },
     "metadata": {
      "needs_background": "light"
     },
     "output_type": "display_data"
    },
    {
     "data": {
      "image/png": "[encoded data removed]",
      "text/plain": [
       "<Figure size 2520x1080 with 1 Axes>"
      ]
     },
     "metadata": {
      "needs_background": "light"
     },
     "output_type": "display_data"
    },
    {
     "data": {
      "image/png": "[encoded data removed]",
      "text/plain": [
       "<Figure size 2520x1080 with 1 Axes>"
      ]
     },
     "metadata": {
      "needs_background": "light"
     },
     "output_type": "display_data"
    },
    {
     "data": {
      "image/png": "[encoded data removed]",
      "text/plain": [
       "<Figure size 2520x1080 with 1 Axes>"
      ]
     },
     "metadata": {
      "needs_background": "light"
     },
     "output_type": "display_data"
    },
    {
     "data": {
      "image/png": "[encoded data removed]",
      "text/plain": [
       "<Figure size 2520x1080 with 1 Axes>"
      ]
     },
     "metadata": {
      "needs_background": "light"
     },
     "output_type": "display_data"
    }
   ],
   "source": [
    "for i in cat_List:\n",
    "    plt.figure(figsize=(35,15))\n",
    "    sn.countplot(df[i])\n",
    "    plt.xticks(rotation=90)\n",
    "    plt.show()"
   ]
  },
  {
   "cell_type": "markdown",
   "metadata": {},
   "source": [
    "# BI-VARIATE ANALYSIS :"
   ]
  },
  {
   "cell_type": "code",
   "execution_count": 60,
   "metadata": {
    "scrolled": false
   },
   "outputs": [
    {
     "data": {
      "text/plain": [
       "<Figure size 2160x1800 with 0 Axes>"
      ]
     },
     "metadata": {},
     "output_type": "display_data"
    },
    {
     "data": {
      "image/png": "[encoded data removed]",
      "text/plain": [
       "<Figure size 360x360 with 1 Axes>"
      ]
     },
     "metadata": {
      "needs_background": "light"
     },
     "output_type": "display_data"
    },
    {
     "data": {
      "text/plain": [
       "<Figure size 2160x1800 with 0 Axes>"
      ]
     },
     "metadata": {},
     "output_type": "display_data"
    },
    {
     "data": {
      "image/png": "[encoded data removed]",
      "text/plain": [
       "<Figure size 360x360 with 1 Axes>"
      ]
     },
     "metadata": {
      "needs_background": "light"
     },
     "output_type": "display_data"
    },
    {
     "data": {
      "text/plain": [
       "<Figure size 2160x1800 with 0 Axes>"
      ]
     },
     "metadata": {},
     "output_type": "display_data"
    },
    {
     "data": {
      "image/png": "[encoded data removed]",
      "text/plain": [
       "<Figure size 360x360 with 1 Axes>"
      ]
     },
     "metadata": {
      "needs_background": "light"
     },
     "output_type": "display_data"
    },
    {
     "data": {
      "text/plain": [
       "<Figure size 2160x1800 with 0 Axes>"
      ]
     },
     "metadata": {},
     "output_type": "display_data"
    },
    {
     "data": {
      "image/png": "[encoded data removed]",
      "text/plain": [
       "<Figure size 360x360 with 1 Axes>"
      ]
     },
     "metadata": {
      "needs_background": "light"
     },
     "output_type": "display_data"
    },
    {
     "data": {
      "text/plain": [
       "<Figure size 2160x1800 with 0 Axes>"
      ]
     },
     "metadata": {},
     "output_type": "display_data"
    },
    {
     "data": {
      "image/png": "[encoded data removed]",
      "text/plain": [
       "<Figure size 360x360 with 1 Axes>"
      ]
     },
     "metadata": {
      "needs_background": "light"
     },
     "output_type": "display_data"
    },
    {
     "data": {
      "text/plain": [
       "<Figure size 2160x1800 with 0 Axes>"
      ]
     },
     "metadata": {},
     "output_type": "display_data"
    },
    {
     "data": {
      "image/png": "[encoded data removed]",
      "text/plain": [
       "<Figure size 360x360 with 1 Axes>"
      ]
     },
     "metadata": {
      "needs_background": "light"
     },
     "output_type": "display_data"
    }
   ],
   "source": [
    "for i in cat_List:\n",
    "    plt.figure(figsize=(30,25))\n",
    "    sn.catplot(y='Price',x=i,data=df,kind=\"bar\",palette=\"hsv\")\n",
    "    plt.xticks(rotation=90)\n",
    "    plt.show()"
   ]
  },
  {
   "cell_type": "code",
   "execution_count": 62,
   "metadata": {},
   "outputs": [
    {
     "data": {
      "image/png": "[encoded data removed]",
      "text/plain": [
       "<Figure size 720x576 with 1 Axes>"
      ]
     },
     "metadata": {
      "needs_background": "light"
     },
     "output_type": "display_data"
    },
    {
     "data": {
      "image/png": "[encoded data removed]",
      "text/plain": [
       "<Figure size 720x576 with 1 Axes>"
      ]
     },
     "metadata": {
      "needs_background": "light"
     },
     "output_type": "display_data"
    },
    {
     "data": {
      "image/png": "[encoded data removed]",
      "text/plain": [
       "<Figure size 720x576 with 1 Axes>"
      ]
     },
     "metadata": {
      "needs_background": "light"
     },
     "output_type": "display_data"
    }
   ],
   "source": [
    "for i in num_List:\n",
    "    plt.figure(figsize=(10,8))\n",
    "    sn.lineplot(y='Price',x=i,data=df)\n",
    "    plt.show()"
   ]
  },
  {
   "cell_type": "code",
   "execution_count": 63,
   "metadata": {},
   "outputs": [
    {
     "data": {
      "text/html": [
       "<div>\n",
       "<style scoped>\n",
       "    .dataframe tbody tr th:only-of-type {\n",
       "        vertical-align: middle;\n",
       "    }\n",
       "\n",
       "    .dataframe tbody tr th {\n",
       "        vertical-align: top;\n",
       "    }\n",
       "\n",
       "    .dataframe thead th {\n",
       "        text-align: right;\n",
       "    }\n",
       "</style>\n",
       "<table border=\"1\" class=\"dataframe\">\n",
       "  <thead>\n",
       "    <tr style=\"text-align: right;\">\n",
       "      <th></th>\n",
       "      <th>Brand</th>\n",
       "      <th>Model</th>\n",
       "      <th>Year_of_Manufacturing</th>\n",
       "      <th>Transmission Type</th>\n",
       "      <th>Fuel Type</th>\n",
       "      <th>Kilometers Driven</th>\n",
       "      <th>No of Owners</th>\n",
       "      <th>Location</th>\n",
       "      <th>Price</th>\n",
       "    </tr>\n",
       "  </thead>\n",
       "  <tbody>\n",
       "  </tbody>\n",
       "</table>\n",
       "</div>"
      ],
      "text/plain": [
       "Empty DataFrame\n",
       "Columns: [Brand, Model, Year_of_Manufacturing, Transmission Type, Fuel Type, Kilometers Driven, No of Owners, Location, Price]\n",
       "Index: []"
      ]
     },
     "execution_count": 63,
     "metadata": {},
     "output_type": "execute_result"
    }
   ],
   "source": [
    "df.head(0)"
   ]
  },
  {
   "cell_type": "code",
   "execution_count": 67,
   "metadata": {},
   "outputs": [
    {
     "data": {
      "image/png": "[encoded data removed]",
      "text/plain": [
       "<Figure size 432x288 with 1 Axes>"
      ]
     },
     "metadata": {
      "needs_background": "light"
     },
     "output_type": "display_data"
    }
   ],
   "source": [
    "#Plotting year vs no of cars\n",
    "purchased_car_per_year = df['Year_of_Manufacturing'].value_counts()\n",
    "purchased_car_per_year.plot(kind='bar')\n",
    "plt.xlabel(\"Year\")\n",
    "plt.ylabel(\"Purchased Cars\")\n",
    "plt.title(\"Year vs Purchased cars\")\n",
    "plt.show()"
   ]
  },
  {
   "cell_type": "markdown",
   "metadata": {},
   "source": [
    "# Feature Engineering:"
   ]
  },
  {
   "cell_type": "markdown",
   "metadata": {},
   "source": [
    "# Now we will use Label Encoder to change catagorical values to Numerical values.\n",
    "# LabelEncoder\n"
   ]
  },
  {
   "cell_type": "code",
   "execution_count": 69,
   "metadata": {},
   "outputs": [
    {
     "name": "stdout",
     "output_type": "stream",
     "text": [
      "<class 'pandas.core.frame.DataFrame'>\n",
      "Int64Index: 15261 entries, 0 to 15938\n",
      "Data columns (total 9 columns):\n",
      " #   Column                 Non-Null Count  Dtype  \n",
      "---  ------                 --------------  -----  \n",
      " 0   Brand                  15261 non-null  int32  \n",
      " 1   Model                  15261 non-null  int32  \n",
      " 2   Year_of_Manufacturing  15261 non-null  int32  \n",
      " 3   Transmission Type      15261 non-null  int32  \n",
      " 4   Fuel Type              15261 non-null  int32  \n",
      " 5   Kilometers Driven      15261 non-null  float64\n",
      " 6   No of Owners           15261 non-null  int32  \n",
      " 7   Location               15261 non-null  int32  \n",
      " 8   Price                  15261 non-null  float64\n",
      "dtypes: float64(2), int32(7)\n",
      "memory usage: 1.4 MB\n",
      "None\n"
     ]
    }
   ],
   "source": [
    "from sklearn.preprocessing import LabelEncoder\n",
    "le = LabelEncoder()\n",
    "for i in cat_List:\n",
    "    df[i] = le.fit_transform(df[i].astype(str))\n",
    "print (df.info())"
   ]
  },
  {
   "cell_type": "code",
   "execution_count": 70,
   "metadata": {},
   "outputs": [
    {
     "data": {
      "text/html": [
       "<div>\n",
       "<style scoped>\n",
       "    .dataframe tbody tr th:only-of-type {\n",
       "        vertical-align: middle;\n",
       "    }\n",
       "\n",
       "    .dataframe tbody tr th {\n",
       "        vertical-align: top;\n",
       "    }\n",
       "\n",
       "    .dataframe thead th {\n",
       "        text-align: right;\n",
       "    }\n",
       "</style>\n",
       "<table border=\"1\" class=\"dataframe\">\n",
       "  <thead>\n",
       "    <tr style=\"text-align: right;\">\n",
       "      <th></th>\n",
       "      <th>Brand</th>\n",
       "      <th>Model</th>\n",
       "      <th>Year_of_Manufacturing</th>\n",
       "      <th>Transmission Type</th>\n",
       "      <th>Fuel Type</th>\n",
       "      <th>Kilometers Driven</th>\n",
       "      <th>No of Owners</th>\n",
       "      <th>Location</th>\n",
       "      <th>Price</th>\n",
       "    </tr>\n",
       "  </thead>\n",
       "  <tbody>\n",
       "    <tr>\n",
       "      <th>0</th>\n",
       "      <td>20</td>\n",
       "      <td>201</td>\n",
       "      <td>2018</td>\n",
       "      <td>1</td>\n",
       "      <td>4</td>\n",
       "      <td>17400.0</td>\n",
       "      <td>0</td>\n",
       "      <td>0</td>\n",
       "      <td>690000.0</td>\n",
       "    </tr>\n",
       "    <tr>\n",
       "      <th>1</th>\n",
       "      <td>32</td>\n",
       "      <td>118</td>\n",
       "      <td>2013</td>\n",
       "      <td>1</td>\n",
       "      <td>1</td>\n",
       "      <td>200000.0</td>\n",
       "      <td>0</td>\n",
       "      <td>0</td>\n",
       "      <td>680000.0</td>\n",
       "    </tr>\n",
       "    <tr>\n",
       "      <th>2</th>\n",
       "      <td>11</td>\n",
       "      <td>248</td>\n",
       "      <td>2008</td>\n",
       "      <td>1</td>\n",
       "      <td>4</td>\n",
       "      <td>77000.0</td>\n",
       "      <td>1</td>\n",
       "      <td>0</td>\n",
       "      <td>260000.0</td>\n",
       "    </tr>\n",
       "    <tr>\n",
       "      <th>3</th>\n",
       "      <td>20</td>\n",
       "      <td>201</td>\n",
       "      <td>2015</td>\n",
       "      <td>1</td>\n",
       "      <td>1</td>\n",
       "      <td>105000.0</td>\n",
       "      <td>0</td>\n",
       "      <td>0</td>\n",
       "      <td>549000.0</td>\n",
       "    </tr>\n",
       "    <tr>\n",
       "      <th>4</th>\n",
       "      <td>20</td>\n",
       "      <td>180</td>\n",
       "      <td>2007</td>\n",
       "      <td>1</td>\n",
       "      <td>4</td>\n",
       "      <td>98000.0</td>\n",
       "      <td>1</td>\n",
       "      <td>0</td>\n",
       "      <td>210000.0</td>\n",
       "    </tr>\n",
       "  </tbody>\n",
       "</table>\n",
       "</div>"
      ],
      "text/plain": [
       "   Brand  Model  Year_of_Manufacturing  Transmission Type  Fuel Type  \\\n",
       "0     20    201                   2018                  1          4   \n",
       "1     32    118                   2013                  1          1   \n",
       "2     11    248                   2008                  1          4   \n",
       "3     20    201                   2015                  1          1   \n",
       "4     20    180                   2007                  1          4   \n",
       "\n",
       "   Kilometers Driven  No of Owners  Location     Price  \n",
       "0            17400.0             0         0  690000.0  \n",
       "1           200000.0             0         0  680000.0  \n",
       "2            77000.0             1         0  260000.0  \n",
       "3           105000.0             0         0  549000.0  \n",
       "4            98000.0             1         0  210000.0  "
      ]
     },
     "execution_count": 70,
     "metadata": {},
     "output_type": "execute_result"
    }
   ],
   "source": [
    "#Checking the dataset\n",
    "df.head()"
   ]
  },
  {
   "cell_type": "code",
   "execution_count": 74,
   "metadata": {},
   "outputs": [
    {
     "data": {
      "text/html": [
       "<div>\n",
       "<style scoped>\n",
       "    .dataframe tbody tr th:only-of-type {\n",
       "        vertical-align: middle;\n",
       "    }\n",
       "\n",
       "    .dataframe tbody tr th {\n",
       "        vertical-align: top;\n",
       "    }\n",
       "\n",
       "    .dataframe thead th {\n",
       "        text-align: right;\n",
       "    }\n",
       "</style>\n",
       "<table border=\"1\" class=\"dataframe\">\n",
       "  <thead>\n",
       "    <tr style=\"text-align: right;\">\n",
       "      <th></th>\n",
       "      <th>Brand</th>\n",
       "      <th>Model</th>\n",
       "      <th>Year_of_Manufacturing</th>\n",
       "      <th>Transmission Type</th>\n",
       "      <th>Fuel Type</th>\n",
       "      <th>Kilometers Driven</th>\n",
       "      <th>No of Owners</th>\n",
       "      <th>Location</th>\n",
       "      <th>Price</th>\n",
       "    </tr>\n",
       "  </thead>\n",
       "  <tbody>\n",
       "    <tr>\n",
       "      <th>count</th>\n",
       "      <td>15261.000000</td>\n",
       "      <td>15261.000000</td>\n",
       "      <td>15261.000000</td>\n",
       "      <td>15261.000000</td>\n",
       "      <td>15261.000000</td>\n",
       "      <td>15261.000000</td>\n",
       "      <td>15261.000000</td>\n",
       "      <td>15261.000000</td>\n",
       "      <td>1.526100e+04</td>\n",
       "    </tr>\n",
       "    <tr>\n",
       "      <th>mean</th>\n",
       "      <td>18.435424</td>\n",
       "      <td>129.137933</td>\n",
       "      <td>2013.142848</td>\n",
       "      <td>0.806107</td>\n",
       "      <td>2.383789</td>\n",
       "      <td>68890.293429</td>\n",
       "      <td>0.600288</td>\n",
       "      <td>1.879693</td>\n",
       "      <td>6.708754e+05</td>\n",
       "    </tr>\n",
       "    <tr>\n",
       "      <th>std</th>\n",
       "      <td>8.365009</td>\n",
       "      <td>76.940928</td>\n",
       "      <td>4.542378</td>\n",
       "      <td>0.395359</td>\n",
       "      <td>1.540947</td>\n",
       "      <td>54723.587433</td>\n",
       "      <td>0.955832</td>\n",
       "      <td>1.375909</td>\n",
       "      <td>8.865892e+05</td>\n",
       "    </tr>\n",
       "    <tr>\n",
       "      <th>min</th>\n",
       "      <td>0.000000</td>\n",
       "      <td>0.000000</td>\n",
       "      <td>1980.000000</td>\n",
       "      <td>0.000000</td>\n",
       "      <td>0.000000</td>\n",
       "      <td>1.000000</td>\n",
       "      <td>0.000000</td>\n",
       "      <td>0.000000</td>\n",
       "      <td>1.500000e+04</td>\n",
       "    </tr>\n",
       "    <tr>\n",
       "      <th>25%</th>\n",
       "      <td>11.000000</td>\n",
       "      <td>62.000000</td>\n",
       "      <td>2011.000000</td>\n",
       "      <td>1.000000</td>\n",
       "      <td>1.000000</td>\n",
       "      <td>40123.000000</td>\n",
       "      <td>0.000000</td>\n",
       "      <td>1.000000</td>\n",
       "      <td>2.600000e+05</td>\n",
       "    </tr>\n",
       "    <tr>\n",
       "      <th>50%</th>\n",
       "      <td>20.000000</td>\n",
       "      <td>124.000000</td>\n",
       "      <td>2014.000000</td>\n",
       "      <td>1.000000</td>\n",
       "      <td>1.000000</td>\n",
       "      <td>64000.000000</td>\n",
       "      <td>0.000000</td>\n",
       "      <td>2.000000</td>\n",
       "      <td>4.500000e+05</td>\n",
       "    </tr>\n",
       "    <tr>\n",
       "      <th>75%</th>\n",
       "      <td>20.000000</td>\n",
       "      <td>200.000000</td>\n",
       "      <td>2017.000000</td>\n",
       "      <td>1.000000</td>\n",
       "      <td>4.000000</td>\n",
       "      <td>85000.000000</td>\n",
       "      <td>1.000000</td>\n",
       "      <td>3.000000</td>\n",
       "      <td>7.222220e+05</td>\n",
       "    </tr>\n",
       "    <tr>\n",
       "      <th>max</th>\n",
       "      <td>34.000000</td>\n",
       "      <td>250.000000</td>\n",
       "      <td>2021.000000</td>\n",
       "      <td>1.000000</td>\n",
       "      <td>4.000000</td>\n",
       "      <td>970000.000000</td>\n",
       "      <td>4.000000</td>\n",
       "      <td>4.000000</td>\n",
       "      <td>1.650000e+07</td>\n",
       "    </tr>\n",
       "  </tbody>\n",
       "</table>\n",
       "</div>"
      ],
      "text/plain": [
       "              Brand         Model  Year_of_Manufacturing  Transmission Type  \\\n",
       "count  15261.000000  15261.000000           15261.000000       15261.000000   \n",
       "mean      18.435424    129.137933            2013.142848           0.806107   \n",
       "std        8.365009     76.940928               4.542378           0.395359   \n",
       "min        0.000000      0.000000            1980.000000           0.000000   \n",
       "25%       11.000000     62.000000            2011.000000           1.000000   \n",
       "50%       20.000000    124.000000            2014.000000           1.000000   \n",
       "75%       20.000000    200.000000            2017.000000           1.000000   \n",
       "max       34.000000    250.000000            2021.000000           1.000000   \n",
       "\n",
       "          Fuel Type  Kilometers Driven  No of Owners      Location  \\\n",
       "count  15261.000000       15261.000000  15261.000000  15261.000000   \n",
       "mean       2.383789       68890.293429      0.600288      1.879693   \n",
       "std        1.540947       54723.587433      0.955832      1.375909   \n",
       "min        0.000000           1.000000      0.000000      0.000000   \n",
       "25%        1.000000       40123.000000      0.000000      1.000000   \n",
       "50%        1.000000       64000.000000      0.000000      2.000000   \n",
       "75%        4.000000       85000.000000      1.000000      3.000000   \n",
       "max        4.000000      970000.000000      4.000000      4.000000   \n",
       "\n",
       "              Price  \n",
       "count  1.526100e+04  \n",
       "mean   6.708754e+05  \n",
       "std    8.865892e+05  \n",
       "min    1.500000e+04  \n",
       "25%    2.600000e+05  \n",
       "50%    4.500000e+05  \n",
       "75%    7.222220e+05  \n",
       "max    1.650000e+07  "
      ]
     },
     "execution_count": 74,
     "metadata": {},
     "output_type": "execute_result"
    }
   ],
   "source": [
    "#Statistical summary of the dataset\n",
    "df.describe() "
   ]
  },
  {
   "cell_type": "code",
   "execution_count": 75,
   "metadata": {},
   "outputs": [
    {
     "data": {
      "text/html": [
       "<div>\n",
       "<style scoped>\n",
       "    .dataframe tbody tr th:only-of-type {\n",
       "        vertical-align: middle;\n",
       "    }\n",
       "\n",
       "    .dataframe tbody tr th {\n",
       "        vertical-align: top;\n",
       "    }\n",
       "\n",
       "    .dataframe thead th {\n",
       "        text-align: right;\n",
       "    }\n",
       "</style>\n",
       "<table border=\"1\" class=\"dataframe\">\n",
       "  <thead>\n",
       "    <tr style=\"text-align: right;\">\n",
       "      <th></th>\n",
       "      <th>Brand</th>\n",
       "      <th>Model</th>\n",
       "      <th>Year_of_Manufacturing</th>\n",
       "      <th>Transmission Type</th>\n",
       "      <th>Fuel Type</th>\n",
       "      <th>Kilometers Driven</th>\n",
       "      <th>No of Owners</th>\n",
       "      <th>Location</th>\n",
       "      <th>Price</th>\n",
       "    </tr>\n",
       "  </thead>\n",
       "  <tbody>\n",
       "    <tr>\n",
       "      <th>Brand</th>\n",
       "      <td>1.000000</td>\n",
       "      <td>0.093857</td>\n",
       "      <td>0.022042</td>\n",
       "      <td>0.096803</td>\n",
       "      <td>-0.103890</td>\n",
       "      <td>0.105912</td>\n",
       "      <td>-0.027054</td>\n",
       "      <td>0.022794</td>\n",
       "      <td>-0.067410</td>\n",
       "    </tr>\n",
       "    <tr>\n",
       "      <th>Model</th>\n",
       "      <td>0.093857</td>\n",
       "      <td>1.000000</td>\n",
       "      <td>-0.023385</td>\n",
       "      <td>0.096246</td>\n",
       "      <td>-0.063901</td>\n",
       "      <td>0.033045</td>\n",
       "      <td>-0.004554</td>\n",
       "      <td>-0.011801</td>\n",
       "      <td>-0.058917</td>\n",
       "    </tr>\n",
       "    <tr>\n",
       "      <th>Year_of_Manufacturing</th>\n",
       "      <td>0.022042</td>\n",
       "      <td>-0.023385</td>\n",
       "      <td>1.000000</td>\n",
       "      <td>-0.188992</td>\n",
       "      <td>-0.123867</td>\n",
       "      <td>-0.335421</td>\n",
       "      <td>-0.361461</td>\n",
       "      <td>-0.125976</td>\n",
       "      <td>0.355400</td>\n",
       "    </tr>\n",
       "    <tr>\n",
       "      <th>Transmission Type</th>\n",
       "      <td>0.096803</td>\n",
       "      <td>0.096246</td>\n",
       "      <td>-0.188992</td>\n",
       "      <td>1.000000</td>\n",
       "      <td>0.012115</td>\n",
       "      <td>0.114207</td>\n",
       "      <td>0.072182</td>\n",
       "      <td>0.051440</td>\n",
       "      <td>-0.462308</td>\n",
       "    </tr>\n",
       "    <tr>\n",
       "      <th>Fuel Type</th>\n",
       "      <td>-0.103890</td>\n",
       "      <td>-0.063901</td>\n",
       "      <td>-0.123867</td>\n",
       "      <td>0.012115</td>\n",
       "      <td>1.000000</td>\n",
       "      <td>-0.203454</td>\n",
       "      <td>0.052104</td>\n",
       "      <td>0.080874</td>\n",
       "      <td>-0.187129</td>\n",
       "    </tr>\n",
       "    <tr>\n",
       "      <th>Kilometers Driven</th>\n",
       "      <td>0.105912</td>\n",
       "      <td>0.033045</td>\n",
       "      <td>-0.335421</td>\n",
       "      <td>0.114207</td>\n",
       "      <td>-0.203454</td>\n",
       "      <td>1.000000</td>\n",
       "      <td>0.107317</td>\n",
       "      <td>0.018897</td>\n",
       "      <td>-0.132050</td>\n",
       "    </tr>\n",
       "    <tr>\n",
       "      <th>No of Owners</th>\n",
       "      <td>-0.027054</td>\n",
       "      <td>-0.004554</td>\n",
       "      <td>-0.361461</td>\n",
       "      <td>0.072182</td>\n",
       "      <td>0.052104</td>\n",
       "      <td>0.107317</td>\n",
       "      <td>1.000000</td>\n",
       "      <td>0.188805</td>\n",
       "      <td>-0.089249</td>\n",
       "    </tr>\n",
       "    <tr>\n",
       "      <th>Location</th>\n",
       "      <td>0.022794</td>\n",
       "      <td>-0.011801</td>\n",
       "      <td>-0.125976</td>\n",
       "      <td>0.051440</td>\n",
       "      <td>0.080874</td>\n",
       "      <td>0.018897</td>\n",
       "      <td>0.188805</td>\n",
       "      <td>1.000000</td>\n",
       "      <td>-0.014104</td>\n",
       "    </tr>\n",
       "    <tr>\n",
       "      <th>Price</th>\n",
       "      <td>-0.067410</td>\n",
       "      <td>-0.058917</td>\n",
       "      <td>0.355400</td>\n",
       "      <td>-0.462308</td>\n",
       "      <td>-0.187129</td>\n",
       "      <td>-0.132050</td>\n",
       "      <td>-0.089249</td>\n",
       "      <td>-0.014104</td>\n",
       "      <td>1.000000</td>\n",
       "    </tr>\n",
       "  </tbody>\n",
       "</table>\n",
       "</div>"
      ],
      "text/plain": [
       "                          Brand     Model  Year_of_Manufacturing  \\\n",
       "Brand                  1.000000  0.093857               0.022042   \n",
       "Model                  0.093857  1.000000              -0.023385   \n",
       "Year_of_Manufacturing  0.022042 -0.023385               1.000000   \n",
       "Transmission Type      0.096803  0.096246              -0.188992   \n",
       "Fuel Type             -0.103890 -0.063901              -0.123867   \n",
       "Kilometers Driven      0.105912  0.033045              -0.335421   \n",
       "No of Owners          -0.027054 -0.004554              -0.361461   \n",
       "Location               0.022794 -0.011801              -0.125976   \n",
       "Price                 -0.067410 -0.058917               0.355400   \n",
       "\n",
       "                       Transmission Type  Fuel Type  Kilometers Driven  \\\n",
       "Brand                           0.096803  -0.103890           0.105912   \n",
       "Model                           0.096246  -0.063901           0.033045   \n",
       "Year_of_Manufacturing          -0.188992  -0.123867          -0.335421   \n",
       "Transmission Type               1.000000   0.012115           0.114207   \n",
       "Fuel Type                       0.012115   1.000000          -0.203454   \n",
       "Kilometers Driven               0.114207  -0.203454           1.000000   \n",
       "No of Owners                    0.072182   0.052104           0.107317   \n",
       "Location                        0.051440   0.080874           0.018897   \n",
       "Price                          -0.462308  -0.187129          -0.132050   \n",
       "\n",
       "                       No of Owners  Location     Price  \n",
       "Brand                     -0.027054  0.022794 -0.067410  \n",
       "Model                     -0.004554 -0.011801 -0.058917  \n",
       "Year_of_Manufacturing     -0.361461 -0.125976  0.355400  \n",
       "Transmission Type          0.072182  0.051440 -0.462308  \n",
       "Fuel Type                  0.052104  0.080874 -0.187129  \n",
       "Kilometers Driven          0.107317  0.018897 -0.132050  \n",
       "No of Owners               1.000000  0.188805 -0.089249  \n",
       "Location                   0.188805  1.000000 -0.014104  \n",
       "Price                     -0.089249 -0.014104  1.000000  "
      ]
     },
     "execution_count": 75,
     "metadata": {},
     "output_type": "execute_result"
    }
   ],
   "source": [
    "#Checking correlation of the dataset\n",
    "corr=df.corr()  #corr() function provides the correlation value of each column\n",
    "corr"
   ]
  },
  {
   "cell_type": "code",
   "execution_count": 78,
   "metadata": {},
   "outputs": [
    {
     "data": {
      "image/png": "[encoded data removed]",
      "text/plain": [
       "<Figure size 1080x864 with 2 Axes>"
      ]
     },
     "metadata": {
      "needs_background": "light"
     },
     "output_type": "display_data"
    }
   ],
   "source": [
    "#Plotting heatmap for visualizing the correlation\n",
    "plt.figure(figsize=(15,12))\n",
    "sn.heatmap(corr,linewidth=0.5,linecolor='black',fmt='.0%',annot=True)\n",
    "plt.show()"
   ]
  },
  {
   "cell_type": "code",
   "execution_count": 79,
   "metadata": {},
   "outputs": [
    {
     "data": {
      "text/plain": [
       "Text(0.5, 1.0, 'Correlation with Target variable')"
      ]
     },
     "execution_count": 79,
     "metadata": {},
     "output_type": "execute_result"
    },
    {
     "data": {
      "image/png": "[encoded data removed]",
      "text/plain": [
       "<Figure size 864x576 with 1 Axes>"
      ]
     },
     "metadata": {
      "needs_background": "light"
     },
     "output_type": "display_data"
    }
   ],
   "source": [
    "#Correlation with target variable\n",
    "plt.figure(figsize=(12,8))\n",
    "df.drop('Price',axis=1).corrwith(df['Price']).plot(kind='bar',grid=True)\n",
    "plt.title('Correlation with Target variable')"
   ]
  },
  {
   "cell_type": "markdown",
   "metadata": {},
   "source": [
    "# Checking skewness :"
   ]
  },
  {
   "cell_type": "code",
   "execution_count": 80,
   "metadata": {},
   "outputs": [
    {
     "data": {
      "text/plain": [
       "Brand                    0.146203\n",
       "Model                    0.012543\n",
       "Year_of_Manufacturing   -1.025200\n",
       "Transmission Type       -1.548705\n",
       "Fuel Type                0.046864\n",
       "Kilometers Driven        6.569194\n",
       "No of Owners             1.995361\n",
       "Location                 0.129712\n",
       "Price                    6.262688\n",
       "dtype: float64"
      ]
     },
     "execution_count": 80,
     "metadata": {},
     "output_type": "execute_result"
    }
   ],
   "source": [
    "#checking the skewness\n",
    "df.skew()"
   ]
  },
  {
   "cell_type": "code",
   "execution_count": 81,
   "metadata": {
    "scrolled": false
   },
   "outputs": [
    {
     "data": {
      "image/png": "[encoded data removed]",
      "text/plain": [
       "<Figure size 432x288 with 1 Axes>"
      ]
     },
     "metadata": {
      "needs_background": "light"
     },
     "output_type": "display_data"
    },
    {
     "data": {
      "image/png": "[encoded data removed]",
      "text/plain": [
       "<Figure size 432x288 with 1 Axes>"
      ]
     },
     "metadata": {
      "needs_background": "light"
     },
     "output_type": "display_data"
    },
    {
     "data": {
      "image/png": "[encoded data removed]",
      "text/plain": [
       "<Figure size 432x288 with 1 Axes>"
      ]
     },
     "metadata": {
      "needs_background": "light"
     },
     "output_type": "display_data"
    },
    {
     "data": {
      "image/png": "[encoded data removed]",
      "text/plain": [
       "<Figure size 432x288 with 1 Axes>"
      ]
     },
     "metadata": {
      "needs_background": "light"
     },
     "output_type": "display_data"
    },
    {
     "data": {
      "image/png": "[encoded data removed]",
      "text/plain": [
       "<Figure size 432x288 with 1 Axes>"
      ]
     },
     "metadata": {
      "needs_background": "light"
     },
     "output_type": "display_data"
    },
    {
     "data": {
      "image/png": "[encoded data removed]",
      "text/plain": [
       "<Figure size 432x288 with 1 Axes>"
      ]
     },
     "metadata": {
      "needs_background": "light"
     },
     "output_type": "display_data"
    },
    {
     "data": {
      "image/png": "[encoded data removed]",
      "text/plain": [
       "<Figure size 432x288 with 1 Axes>"
      ]
     },
     "metadata": {
      "needs_background": "light"
     },
     "output_type": "display_data"
    },
    {
     "data": {
      "image/png": "[encoded data removed]",
      "text/plain": [
       "<Figure size 432x288 with 1 Axes>"
      ]
     },
     "metadata": {
      "needs_background": "light"
     },
     "output_type": "display_data"
    },
    {
     "data": {
      "image/png": "[encoded data removed]",
      "text/plain": [
       "<Figure size 432x288 with 1 Axes>"
      ]
     },
     "metadata": {
      "needs_background": "light"
     },
     "output_type": "display_data"
    }
   ],
   "source": [
    "#Plotting distplot for checking the distribution of skewness\n",
    "for col in df.describe().columns:\n",
    "    sn.distplot(df[col])\n",
    "    plt.show()"
   ]
  },
  {
   "cell_type": "markdown",
   "metadata": {},
   "source": [
    "# Checking outliers :"
   ]
  },
  {
   "cell_type": "code",
   "execution_count": 90,
   "metadata": {},
   "outputs": [
    {
     "data": {
      "image/png": "[encoded data removed]",
      "text/plain": [
       "<Figure size 2160x2160 with 9 Axes>"
      ]
     },
     "metadata": {
      "needs_background": "light"
     },
     "output_type": "display_data"
    }
   ],
   "source": [
    "collist=df.columns.values\n",
    "ncol=5\n",
    "nrow=8\n",
    "plt.figure(figsize=(30,30))\n",
    "for i in range(0,len(collist)):\n",
    "    plt.subplot(nrow,ncol,i+1)\n",
    "    sn.boxplot(df[collist[i]])"
   ]
  },
  {
   "cell_type": "markdown",
   "metadata": {},
   "source": [
    "# Handling outliers by using z-score method :"
   ]
  },
  {
   "cell_type": "code",
   "execution_count": 91,
   "metadata": {},
   "outputs": [
    {
     "data": {
      "text/plain": [
       "(array([   32,    71,   112, ..., 15223, 15226, 15249], dtype=int64),\n",
       " array([8, 8, 8, ..., 6, 6, 6], dtype=int64))"
      ]
     },
     "execution_count": 91,
     "metadata": {},
     "output_type": "execute_result"
    }
   ],
   "source": [
    "from scipy.stats import zscore\n",
    "import numpy as np\n",
    "z=np.abs(zscore(df))   #converting all values into absolute values\n",
    "threshold=3    #setting up a threshold\n",
    "np.where(z>3)"
   ]
  },
  {
   "cell_type": "code",
   "execution_count": 92,
   "metadata": {},
   "outputs": [
    {
     "data": {
      "text/html": [
       "<div>\n",
       "<style scoped>\n",
       "    .dataframe tbody tr th:only-of-type {\n",
       "        vertical-align: middle;\n",
       "    }\n",
       "\n",
       "    .dataframe tbody tr th {\n",
       "        vertical-align: top;\n",
       "    }\n",
       "\n",
       "    .dataframe thead th {\n",
       "        text-align: right;\n",
       "    }\n",
       "</style>\n",
       "<table border=\"1\" class=\"dataframe\">\n",
       "  <thead>\n",
       "    <tr style=\"text-align: right;\">\n",
       "      <th></th>\n",
       "      <th>Brand</th>\n",
       "      <th>Model</th>\n",
       "      <th>Year_of_Manufacturing</th>\n",
       "      <th>Transmission Type</th>\n",
       "      <th>Fuel Type</th>\n",
       "      <th>Kilometers Driven</th>\n",
       "      <th>No of Owners</th>\n",
       "      <th>Location</th>\n",
       "      <th>Price</th>\n",
       "    </tr>\n",
       "  </thead>\n",
       "  <tbody>\n",
       "    <tr>\n",
       "      <th>0</th>\n",
       "      <td>20</td>\n",
       "      <td>201</td>\n",
       "      <td>2018</td>\n",
       "      <td>1</td>\n",
       "      <td>4</td>\n",
       "      <td>17400.0</td>\n",
       "      <td>0</td>\n",
       "      <td>0</td>\n",
       "      <td>690000.0</td>\n",
       "    </tr>\n",
       "    <tr>\n",
       "      <th>1</th>\n",
       "      <td>32</td>\n",
       "      <td>118</td>\n",
       "      <td>2013</td>\n",
       "      <td>1</td>\n",
       "      <td>1</td>\n",
       "      <td>200000.0</td>\n",
       "      <td>0</td>\n",
       "      <td>0</td>\n",
       "      <td>680000.0</td>\n",
       "    </tr>\n",
       "    <tr>\n",
       "      <th>2</th>\n",
       "      <td>11</td>\n",
       "      <td>248</td>\n",
       "      <td>2008</td>\n",
       "      <td>1</td>\n",
       "      <td>4</td>\n",
       "      <td>77000.0</td>\n",
       "      <td>1</td>\n",
       "      <td>0</td>\n",
       "      <td>260000.0</td>\n",
       "    </tr>\n",
       "    <tr>\n",
       "      <th>3</th>\n",
       "      <td>20</td>\n",
       "      <td>201</td>\n",
       "      <td>2015</td>\n",
       "      <td>1</td>\n",
       "      <td>1</td>\n",
       "      <td>105000.0</td>\n",
       "      <td>0</td>\n",
       "      <td>0</td>\n",
       "      <td>549000.0</td>\n",
       "    </tr>\n",
       "    <tr>\n",
       "      <th>4</th>\n",
       "      <td>20</td>\n",
       "      <td>180</td>\n",
       "      <td>2007</td>\n",
       "      <td>1</td>\n",
       "      <td>4</td>\n",
       "      <td>98000.0</td>\n",
       "      <td>1</td>\n",
       "      <td>0</td>\n",
       "      <td>210000.0</td>\n",
       "    </tr>\n",
       "    <tr>\n",
       "      <th>...</th>\n",
       "      <td>...</td>\n",
       "      <td>...</td>\n",
       "      <td>...</td>\n",
       "      <td>...</td>\n",
       "      <td>...</td>\n",
       "      <td>...</td>\n",
       "      <td>...</td>\n",
       "      <td>...</td>\n",
       "      <td>...</td>\n",
       "    </tr>\n",
       "    <tr>\n",
       "      <th>15934</th>\n",
       "      <td>7</td>\n",
       "      <td>131</td>\n",
       "      <td>2013</td>\n",
       "      <td>1</td>\n",
       "      <td>4</td>\n",
       "      <td>28000.0</td>\n",
       "      <td>0</td>\n",
       "      <td>2</td>\n",
       "      <td>375000.0</td>\n",
       "    </tr>\n",
       "    <tr>\n",
       "      <th>15935</th>\n",
       "      <td>11</td>\n",
       "      <td>248</td>\n",
       "      <td>2009</td>\n",
       "      <td>1</td>\n",
       "      <td>4</td>\n",
       "      <td>30214.0</td>\n",
       "      <td>0</td>\n",
       "      <td>2</td>\n",
       "      <td>188000.0</td>\n",
       "    </tr>\n",
       "    <tr>\n",
       "      <th>15936</th>\n",
       "      <td>26</td>\n",
       "      <td>152</td>\n",
       "      <td>2012</td>\n",
       "      <td>0</td>\n",
       "      <td>1</td>\n",
       "      <td>100000.0</td>\n",
       "      <td>0</td>\n",
       "      <td>2</td>\n",
       "      <td>150000.0</td>\n",
       "    </tr>\n",
       "    <tr>\n",
       "      <th>15937</th>\n",
       "      <td>9</td>\n",
       "      <td>78</td>\n",
       "      <td>2010</td>\n",
       "      <td>1</td>\n",
       "      <td>1</td>\n",
       "      <td>132000.0</td>\n",
       "      <td>2</td>\n",
       "      <td>2</td>\n",
       "      <td>231000.0</td>\n",
       "    </tr>\n",
       "    <tr>\n",
       "      <th>15938</th>\n",
       "      <td>11</td>\n",
       "      <td>239</td>\n",
       "      <td>2019</td>\n",
       "      <td>1</td>\n",
       "      <td>0</td>\n",
       "      <td>70000.0</td>\n",
       "      <td>0</td>\n",
       "      <td>2</td>\n",
       "      <td>550000.0</td>\n",
       "    </tr>\n",
       "  </tbody>\n",
       "</table>\n",
       "<p>14188 rows × 9 columns</p>\n",
       "</div>"
      ],
      "text/plain": [
       "       Brand  Model  Year_of_Manufacturing  Transmission Type  Fuel Type  \\\n",
       "0         20    201                   2018                  1          4   \n",
       "1         32    118                   2013                  1          1   \n",
       "2         11    248                   2008                  1          4   \n",
       "3         20    201                   2015                  1          1   \n",
       "4         20    180                   2007                  1          4   \n",
       "...      ...    ...                    ...                ...        ...   \n",
       "15934      7    131                   2013                  1          4   \n",
       "15935     11    248                   2009                  1          4   \n",
       "15936     26    152                   2012                  0          1   \n",
       "15937      9     78                   2010                  1          1   \n",
       "15938     11    239                   2019                  1          0   \n",
       "\n",
       "       Kilometers Driven  No of Owners  Location     Price  \n",
       "0                17400.0             0         0  690000.0  \n",
       "1               200000.0             0         0  680000.0  \n",
       "2                77000.0             1         0  260000.0  \n",
       "3               105000.0             0         0  549000.0  \n",
       "4                98000.0             1         0  210000.0  \n",
       "...                  ...           ...       ...       ...  \n",
       "15934            28000.0             0         2  375000.0  \n",
       "15935            30214.0             0         2  188000.0  \n",
       "15936           100000.0             0         2  150000.0  \n",
       "15937           132000.0             2         2  231000.0  \n",
       "15938            70000.0             0         2  550000.0  \n",
       "\n",
       "[14188 rows x 9 columns]"
      ]
     },
     "execution_count": 92,
     "metadata": {},
     "output_type": "execute_result"
    }
   ],
   "source": [
    "#Removing outliers\n",
    "df_new=df[(z<3).all(axis=1)]\n",
    "df_new"
   ]
  },
  {
   "cell_type": "code",
   "execution_count": 94,
   "metadata": {},
   "outputs": [
    {
     "data": {
      "text/plain": [
       "(15261, 9)"
      ]
     },
     "execution_count": 94,
     "metadata": {},
     "output_type": "execute_result"
    }
   ],
   "source": [
    "#Original data dimensions\n",
    "df.shape   "
   ]
  },
  {
   "cell_type": "code",
   "execution_count": 95,
   "metadata": {},
   "outputs": [
    {
     "data": {
      "text/plain": [
       "(14188, 9)"
      ]
     },
     "execution_count": 95,
     "metadata": {},
     "output_type": "execute_result"
    }
   ],
   "source": [
    "#New data dimensions\n",
    "df_new.shape"
   ]
  },
  {
   "cell_type": "markdown",
   "metadata": {},
   "source": [
    "# Percentage loss of data after removing outliers :"
   ]
  },
  {
   "cell_type": "code",
   "execution_count": 97,
   "metadata": {},
   "outputs": [
    {
     "name": "stdout",
     "output_type": "stream",
     "text": [
      "7.030994037088003\n"
     ]
    }
   ],
   "source": [
    "dfshape = 15261\n",
    "dfnewshape = 14188\n",
    "total = dfshape-dfnewshape\n",
    "percentage_loss=((total)/dfshape)*100   \n",
    "print(percentage_loss)"
   ]
  },
  {
   "cell_type": "markdown",
   "metadata": {},
   "source": [
    "# Preparing dataset for model training :"
   ]
  },
  {
   "cell_type": "code",
   "execution_count": 98,
   "metadata": {},
   "outputs": [],
   "source": [
    "df_x=df_new.drop('Price',axis=1) #Independent variables\n",
    "y=df_new['Price'] #Target Variable"
   ]
  },
  {
   "cell_type": "code",
   "execution_count": 99,
   "metadata": {},
   "outputs": [
    {
     "data": {
      "text/html": [
       "<div>\n",
       "<style scoped>\n",
       "    .dataframe tbody tr th:only-of-type {\n",
       "        vertical-align: middle;\n",
       "    }\n",
       "\n",
       "    .dataframe tbody tr th {\n",
       "        vertical-align: top;\n",
       "    }\n",
       "\n",
       "    .dataframe thead th {\n",
       "        text-align: right;\n",
       "    }\n",
       "</style>\n",
       "<table border=\"1\" class=\"dataframe\">\n",
       "  <thead>\n",
       "    <tr style=\"text-align: right;\">\n",
       "      <th></th>\n",
       "      <th>Brand</th>\n",
       "      <th>Model</th>\n",
       "      <th>Year_of_Manufacturing</th>\n",
       "      <th>Transmission Type</th>\n",
       "      <th>Fuel Type</th>\n",
       "      <th>Kilometers Driven</th>\n",
       "      <th>No of Owners</th>\n",
       "      <th>Location</th>\n",
       "    </tr>\n",
       "  </thead>\n",
       "  <tbody>\n",
       "    <tr>\n",
       "      <th>0</th>\n",
       "      <td>20</td>\n",
       "      <td>201</td>\n",
       "      <td>2018</td>\n",
       "      <td>1</td>\n",
       "      <td>4</td>\n",
       "      <td>17400.0</td>\n",
       "      <td>0</td>\n",
       "      <td>0</td>\n",
       "    </tr>\n",
       "    <tr>\n",
       "      <th>1</th>\n",
       "      <td>32</td>\n",
       "      <td>118</td>\n",
       "      <td>2013</td>\n",
       "      <td>1</td>\n",
       "      <td>1</td>\n",
       "      <td>200000.0</td>\n",
       "      <td>0</td>\n",
       "      <td>0</td>\n",
       "    </tr>\n",
       "    <tr>\n",
       "      <th>2</th>\n",
       "      <td>11</td>\n",
       "      <td>248</td>\n",
       "      <td>2008</td>\n",
       "      <td>1</td>\n",
       "      <td>4</td>\n",
       "      <td>77000.0</td>\n",
       "      <td>1</td>\n",
       "      <td>0</td>\n",
       "    </tr>\n",
       "    <tr>\n",
       "      <th>3</th>\n",
       "      <td>20</td>\n",
       "      <td>201</td>\n",
       "      <td>2015</td>\n",
       "      <td>1</td>\n",
       "      <td>1</td>\n",
       "      <td>105000.0</td>\n",
       "      <td>0</td>\n",
       "      <td>0</td>\n",
       "    </tr>\n",
       "    <tr>\n",
       "      <th>4</th>\n",
       "      <td>20</td>\n",
       "      <td>180</td>\n",
       "      <td>2007</td>\n",
       "      <td>1</td>\n",
       "      <td>4</td>\n",
       "      <td>98000.0</td>\n",
       "      <td>1</td>\n",
       "      <td>0</td>\n",
       "    </tr>\n",
       "  </tbody>\n",
       "</table>\n",
       "</div>"
      ],
      "text/plain": [
       "   Brand  Model  Year_of_Manufacturing  Transmission Type  Fuel Type  \\\n",
       "0     20    201                   2018                  1          4   \n",
       "1     32    118                   2013                  1          1   \n",
       "2     11    248                   2008                  1          4   \n",
       "3     20    201                   2015                  1          1   \n",
       "4     20    180                   2007                  1          4   \n",
       "\n",
       "   Kilometers Driven  No of Owners  Location  \n",
       "0            17400.0             0         0  \n",
       "1           200000.0             0         0  \n",
       "2            77000.0             1         0  \n",
       "3           105000.0             0         0  \n",
       "4            98000.0             1         0  "
      ]
     },
     "execution_count": 99,
     "metadata": {},
     "output_type": "execute_result"
    }
   ],
   "source": [
    "#Checking x data\n",
    "df_x.head()"
   ]
  },
  {
   "cell_type": "code",
   "execution_count": 100,
   "metadata": {},
   "outputs": [
    {
     "data": {
      "text/plain": [
       "0    690000.0\n",
       "1    680000.0\n",
       "2    260000.0\n",
       "3    549000.0\n",
       "4    210000.0\n",
       "Name: Price, dtype: float64"
      ]
     },
     "execution_count": 100,
     "metadata": {},
     "output_type": "execute_result"
    }
   ],
   "source": [
    "#Checking y data after splitting\n",
    "y.head()"
   ]
  },
  {
   "cell_type": "markdown",
   "metadata": {},
   "source": [
    "# Treating skewness :"
   ]
  },
  {
   "cell_type": "code",
   "execution_count": 101,
   "metadata": {},
   "outputs": [],
   "source": [
    "#We are treating skewness by using square root transform\n",
    "for col in df_x.skew().index:\n",
    "    if col in df_x.describe().columns:\n",
    "        if df_x[col].skew()>0.55:\n",
    "            df_x[col]=np.sqrt(df_x[col])\n",
    "        if df_x[col].skew()<-0.55:\n",
    "            df_x[col]=np.sqrt(df_x[col])"
   ]
  },
  {
   "cell_type": "code",
   "execution_count": 102,
   "metadata": {},
   "outputs": [
    {
     "data": {
      "text/plain": [
       "Brand                    0.174927\n",
       "Model                    0.011186\n",
       "Year_of_Manufacturing   -0.589082\n",
       "Transmission Type       -1.624313\n",
       "Fuel Type                0.047233\n",
       "Kilometers Driven       -0.311203\n",
       "No of Owners             0.765074\n",
       "Location                 0.165007\n",
       "dtype: float64"
      ]
     },
     "execution_count": 102,
     "metadata": {},
     "output_type": "execute_result"
    }
   ],
   "source": [
    "#Checking skewness after treating it\n",
    "df_x.skew() "
   ]
  },
  {
   "cell_type": "markdown",
   "metadata": {},
   "source": [
    "# Scaling the data : "
   ]
  },
  {
   "cell_type": "code",
   "execution_count": 103,
   "metadata": {},
   "outputs": [
    {
     "data": {
      "text/html": [
       "<div>\n",
       "<style scoped>\n",
       "    .dataframe tbody tr th:only-of-type {\n",
       "        vertical-align: middle;\n",
       "    }\n",
       "\n",
       "    .dataframe tbody tr th {\n",
       "        vertical-align: top;\n",
       "    }\n",
       "\n",
       "    .dataframe thead th {\n",
       "        text-align: right;\n",
       "    }\n",
       "</style>\n",
       "<table border=\"1\" class=\"dataframe\">\n",
       "  <thead>\n",
       "    <tr style=\"text-align: right;\">\n",
       "      <th></th>\n",
       "      <th>Brand</th>\n",
       "      <th>Model</th>\n",
       "      <th>Year_of_Manufacturing</th>\n",
       "      <th>Transmission Type</th>\n",
       "      <th>Fuel Type</th>\n",
       "      <th>Kilometers Driven</th>\n",
       "      <th>No of Owners</th>\n",
       "      <th>Location</th>\n",
       "    </tr>\n",
       "  </thead>\n",
       "  <tbody>\n",
       "    <tr>\n",
       "      <th>0</th>\n",
       "      <td>0.186902</td>\n",
       "      <td>0.926805</td>\n",
       "      <td>1.139861</td>\n",
       "      <td>0.476129</td>\n",
       "      <td>1.048835</td>\n",
       "      <td>-1.449619</td>\n",
       "      <td>-0.733075</td>\n",
       "      <td>-1.341010</td>\n",
       "    </tr>\n",
       "    <tr>\n",
       "      <th>1</th>\n",
       "      <td>1.630887</td>\n",
       "      <td>-0.151864</td>\n",
       "      <td>-0.075589</td>\n",
       "      <td>0.476129</td>\n",
       "      <td>-0.894345</td>\n",
       "      <td>2.545513</td>\n",
       "      <td>-0.733075</td>\n",
       "      <td>-1.341010</td>\n",
       "    </tr>\n",
       "    <tr>\n",
       "      <th>2</th>\n",
       "      <td>-0.896087</td>\n",
       "      <td>1.537618</td>\n",
       "      <td>-1.292550</td>\n",
       "      <td>0.476129</td>\n",
       "      <td>1.048835</td>\n",
       "      <td>0.394979</td>\n",
       "      <td>1.094873</td>\n",
       "      <td>-1.341010</td>\n",
       "    </tr>\n",
       "    <tr>\n",
       "      <th>3</th>\n",
       "      <td>0.186902</td>\n",
       "      <td>0.926805</td>\n",
       "      <td>0.410772</td>\n",
       "      <td>0.476129</td>\n",
       "      <td>-0.894345</td>\n",
       "      <td>0.984779</td>\n",
       "      <td>-0.733075</td>\n",
       "      <td>-1.341010</td>\n",
       "    </tr>\n",
       "    <tr>\n",
       "      <th>4</th>\n",
       "      <td>0.186902</td>\n",
       "      <td>0.653889</td>\n",
       "      <td>-1.536124</td>\n",
       "      <td>0.476129</td>\n",
       "      <td>1.048835</td>\n",
       "      <td>0.845559</td>\n",
       "      <td>1.094873</td>\n",
       "      <td>-1.341010</td>\n",
       "    </tr>\n",
       "    <tr>\n",
       "      <th>...</th>\n",
       "      <td>...</td>\n",
       "      <td>...</td>\n",
       "      <td>...</td>\n",
       "      <td>...</td>\n",
       "      <td>...</td>\n",
       "      <td>...</td>\n",
       "      <td>...</td>\n",
       "      <td>...</td>\n",
       "    </tr>\n",
       "    <tr>\n",
       "      <th>14183</th>\n",
       "      <td>-1.377416</td>\n",
       "      <td>0.017084</td>\n",
       "      <td>-0.075589</td>\n",
       "      <td>0.476129</td>\n",
       "      <td>1.048835</td>\n",
       "      <td>-1.000785</td>\n",
       "      <td>-0.733075</td>\n",
       "      <td>0.117108</td>\n",
       "    </tr>\n",
       "    <tr>\n",
       "      <th>14184</th>\n",
       "      <td>-0.896087</td>\n",
       "      <td>1.537618</td>\n",
       "      <td>-1.049037</td>\n",
       "      <td>0.476129</td>\n",
       "      <td>1.048835</td>\n",
       "      <td>-0.918556</td>\n",
       "      <td>-0.733075</td>\n",
       "      <td>0.117108</td>\n",
       "    </tr>\n",
       "    <tr>\n",
       "      <th>14185</th>\n",
       "      <td>0.908894</td>\n",
       "      <td>0.290000</td>\n",
       "      <td>-0.318860</td>\n",
       "      <td>-2.100271</td>\n",
       "      <td>-0.894345</td>\n",
       "      <td>0.885830</td>\n",
       "      <td>-0.733075</td>\n",
       "      <td>0.117108</td>\n",
       "    </tr>\n",
       "    <tr>\n",
       "      <th>14186</th>\n",
       "      <td>-1.136752</td>\n",
       "      <td>-0.671705</td>\n",
       "      <td>-0.805584</td>\n",
       "      <td>0.476129</td>\n",
       "      <td>-0.894345</td>\n",
       "      <td>1.482497</td>\n",
       "      <td>1.852034</td>\n",
       "      <td>0.117108</td>\n",
       "    </tr>\n",
       "    <tr>\n",
       "      <th>14187</th>\n",
       "      <td>-0.896087</td>\n",
       "      <td>1.420654</td>\n",
       "      <td>1.382770</td>\n",
       "      <td>0.476129</td>\n",
       "      <td>-1.542071</td>\n",
       "      <td>0.231354</td>\n",
       "      <td>-0.733075</td>\n",
       "      <td>0.117108</td>\n",
       "    </tr>\n",
       "  </tbody>\n",
       "</table>\n",
       "<p>14188 rows × 8 columns</p>\n",
       "</div>"
      ],
      "text/plain": [
       "          Brand     Model  Year_of_Manufacturing  Transmission Type  \\\n",
       "0      0.186902  0.926805               1.139861           0.476129   \n",
       "1      1.630887 -0.151864              -0.075589           0.476129   \n",
       "2     -0.896087  1.537618              -1.292550           0.476129   \n",
       "3      0.186902  0.926805               0.410772           0.476129   \n",
       "4      0.186902  0.653889              -1.536124           0.476129   \n",
       "...         ...       ...                    ...                ...   \n",
       "14183 -1.377416  0.017084              -0.075589           0.476129   \n",
       "14184 -0.896087  1.537618              -1.049037           0.476129   \n",
       "14185  0.908894  0.290000              -0.318860          -2.100271   \n",
       "14186 -1.136752 -0.671705              -0.805584           0.476129   \n",
       "14187 -0.896087  1.420654               1.382770           0.476129   \n",
       "\n",
       "       Fuel Type  Kilometers Driven  No of Owners  Location  \n",
       "0       1.048835          -1.449619     -0.733075 -1.341010  \n",
       "1      -0.894345           2.545513     -0.733075 -1.341010  \n",
       "2       1.048835           0.394979      1.094873 -1.341010  \n",
       "3      -0.894345           0.984779     -0.733075 -1.341010  \n",
       "4       1.048835           0.845559      1.094873 -1.341010  \n",
       "...          ...                ...           ...       ...  \n",
       "14183   1.048835          -1.000785     -0.733075  0.117108  \n",
       "14184   1.048835          -0.918556     -0.733075  0.117108  \n",
       "14185  -0.894345           0.885830     -0.733075  0.117108  \n",
       "14186  -0.894345           1.482497      1.852034  0.117108  \n",
       "14187  -1.542071           0.231354     -0.733075  0.117108  \n",
       "\n",
       "[14188 rows x 8 columns]"
      ]
     },
     "execution_count": 103,
     "metadata": {},
     "output_type": "execute_result"
    }
   ],
   "source": [
    "#Scaling the dataset using StandardScaler\n",
    "from sklearn.preprocessing import StandardScaler\n",
    "sc=StandardScaler()\n",
    "x=sc.fit_transform(df_x)\n",
    "x=pd.DataFrame(x,columns=df_x.columns)\n",
    "x"
   ]
  },
  {
   "cell_type": "markdown",
   "metadata": {},
   "source": [
    "# Model Building : "
   ]
  },
  {
   "cell_type": "code",
   "execution_count": 105,
   "metadata": {},
   "outputs": [],
   "source": [
    "#Importing required metrices and model for the dataset\n",
    "from sklearn.model_selection import train_test_split, cross_val_score, GridSearchCV\n",
    "from sklearn.linear_model import LinearRegression,Lasso,ElasticNet,Ridge\n",
    "from sklearn.metrics import r2_score, mean_absolute_error,mean_squared_error\n",
    "from sklearn.tree import DecisionTreeRegressor\n",
    "from sklearn.neighbors import KNeighborsRegressor\n",
    "from sklearn.ensemble import RandomForestRegressor, AdaBoostRegressor, GradientBoostingRegressor\n",
    "from sklearn.model_selection import GridSearchCV"
   ]
  },
  {
   "cell_type": "code",
   "execution_count": 106,
   "metadata": {},
   "outputs": [
    {
     "name": "stdout",
     "output_type": "stream",
     "text": [
      "At random state 69 ,the model performs well\n",
      "Training r2_score is:  43.73940831897944\n",
      "Testing r2_score is:  43.67352543221313\n"
     ]
    }
   ],
   "source": [
    "#Finding the best random state and r2_score\n",
    "for i in range(42,100):\n",
    "    x_train,x_test,y_train,y_test=train_test_split(x,y,test_size=.20,random_state=i)\n",
    "    lr=LinearRegression()\n",
    "    lr.fit(x_train,y_train)\n",
    "    pred_train=lr.predict(x_train)\n",
    "    pred_test=lr.predict(x_test)\n",
    "    if round(r2_score(y_train,pred_train)*100,1)==round(r2_score(y_test,pred_test)*100,1):\n",
    "        print('At random state',i,',the model performs well')\n",
    "        print('Training r2_score is: ',r2_score(y_train,pred_train)*100)\n",
    "        print('Testing r2_score is: ',r2_score(y_test,pred_test)*100)"
   ]
  },
  {
   "cell_type": "code",
   "execution_count": 107,
   "metadata": {},
   "outputs": [],
   "source": [
    "#Creating train_test_split using best random_state\n",
    "x_train,x_test,y_train,y_test=train_test_split(x,y,random_state=69,test_size=.20)"
   ]
  },
  {
   "cell_type": "markdown",
   "metadata": {},
   "source": [
    "# Finding the best model :"
   ]
  },
  {
   "cell_type": "code",
   "execution_count": 108,
   "metadata": {},
   "outputs": [],
   "source": [
    "LR=LinearRegression()\n",
    "l=Lasso()\n",
    "en=ElasticNet()\n",
    "rd=Ridge()\n",
    "dtr=DecisionTreeRegressor()\n",
    "knr=KNeighborsRegressor()\n",
    "rf=RandomForestRegressor()\n",
    "ab=AdaBoostRegressor()\n",
    "gb=GradientBoostingRegressor()"
   ]
  },
  {
   "cell_type": "code",
   "execution_count": 111,
   "metadata": {},
   "outputs": [],
   "source": [
    "models= []\n",
    "models.append(('Linear Regression',LR))\n",
    "models.append(('Lasso Regression',l))\n",
    "models.append(('Elastic Net Regression',en))\n",
    "models.append(('Ridge Regression',rd))\n",
    "models.append(('Decision Tree Regressor',dtr))\n",
    "models.append(('KNeighbors Regressor',knr))\n",
    "models.append(('RandomForestRegressor',rf))\n",
    "models.append(('AdaBoostRegressor',ab))\n",
    "models.append(('GradientBoostingRegressor',gb))"
   ]
  },
  {
   "cell_type": "code",
   "execution_count": 112,
   "metadata": {
    "scrolled": false
   },
   "outputs": [
    {
     "name": "stdout",
     "output_type": "stream",
     "text": [
      "****************************** Linear Regression ***************************\n",
      "\n",
      "\n",
      "LinearRegression()\n",
      "\n",
      "\n",
      "r2_score:  0.43673525432213134\n",
      "\n",
      "\n",
      "Standard Deviation:  0.07993052305828376\n",
      "\n",
      "\n",
      "Mean Absolute Error:  265196.85040908016\n",
      "\n",
      "\n",
      "Mean Squared Error:  164380872360.56992\n",
      "\n",
      "\n",
      "Root Mean Squared Error:  405439.1105462939\n",
      "\n",
      "\n",
      "\n",
      "****************************** Lasso Regression ***************************\n",
      "\n",
      "\n",
      "Lasso()\n",
      "\n",
      "\n",
      "r2_score:  0.4367355125258132\n",
      "\n",
      "\n",
      "Standard Deviation:  0.07992978140800723\n",
      "\n",
      "\n",
      "Mean Absolute Error:  265196.2309892308\n",
      "\n",
      "\n",
      "Mean Squared Error:  164380797007.4668\n",
      "\n",
      "\n",
      "Root Mean Squared Error:  405439.01761851535\n",
      "\n",
      "\n",
      "\n",
      "****************************** Elastic Net Regression ***************************\n",
      "\n",
      "\n",
      "ElasticNet()\n",
      "\n",
      "\n",
      "r2_score:  0.40558560486431716\n",
      "\n",
      "\n",
      "Standard Deviation:  0.05036260545124671\n",
      "\n",
      "\n",
      "Mean Absolute Error:  260420.23601405346\n",
      "\n",
      "\n",
      "Mean Squared Error:  173471458254.48953\n",
      "\n",
      "\n",
      "Root Mean Squared Error:  416499.049524113\n",
      "\n",
      "\n",
      "\n",
      "****************************** Ridge Regression ***************************\n",
      "\n",
      "\n",
      "Ridge()\n",
      "\n",
      "\n",
      "r2_score:  0.4367366727908023\n",
      "\n",
      "\n",
      "Standard Deviation:  0.07991809291983559\n",
      "\n",
      "\n",
      "Mean Absolute Error:  265192.14856179355\n",
      "\n",
      "\n",
      "Mean Squared Error:  164380458400.49283\n",
      "\n",
      "\n",
      "Root Mean Squared Error:  405438.60003765405\n",
      "\n",
      "\n",
      "\n",
      "****************************** Decision Tree Regressor ***************************\n",
      "\n",
      "\n",
      "DecisionTreeRegressor()\n",
      "\n",
      "\n",
      "r2_score:  0.9933472285544656\n",
      "\n",
      "\n",
      "Standard Deviation:  0.3496192902920916\n",
      "\n",
      "\n",
      "Mean Absolute Error:  1774.108938014065\n",
      "\n",
      "\n",
      "Mean Squared Error:  1941517523.019032\n",
      "\n",
      "\n",
      "Root Mean Squared Error:  44062.6545162571\n",
      "\n",
      "\n",
      "\n",
      "****************************** KNeighbors Regressor ***************************\n",
      "\n",
      "\n",
      "KNeighborsRegressor()\n",
      "\n",
      "\n",
      "r2_score:  0.9640688921591424\n",
      "\n",
      "\n",
      "Standard Deviation:  0.3546862406462319\n",
      "\n",
      "\n",
      "Mean Absolute Error:  32057.47843551797\n",
      "\n",
      "\n",
      "Mean Squared Error:  10485987090.588768\n",
      "\n",
      "\n",
      "Root Mean Squared Error:  102401.10883476198\n",
      "\n",
      "\n",
      "\n",
      "****************************** RandomForestRegressor ***************************\n",
      "\n",
      "\n",
      "RandomForestRegressor()\n",
      "\n",
      "\n",
      "r2_score:  0.9944757390899583\n",
      "\n",
      "\n",
      "Standard Deviation:  0.1831475822872434\n",
      "\n",
      "\n",
      "Mean Absolute Error:  6014.39905047277\n",
      "\n",
      "\n",
      "Mean Squared Error:  1612177638.5049598\n",
      "\n",
      "\n",
      "Root Mean Squared Error:  40151.93193988254\n",
      "\n",
      "\n",
      "\n",
      "****************************** AdaBoostRegressor ***************************\n",
      "\n",
      "\n",
      "AdaBoostRegressor()\n",
      "\n",
      "\n",
      "r2_score:  0.43819508419662623\n",
      "\n",
      "\n",
      "Standard Deviation:  0.1778234627651402\n",
      "\n",
      "\n",
      "Mean Absolute Error:  298468.201658681\n",
      "\n",
      "\n",
      "Mean Squared Error:  163954841599.5311\n",
      "\n",
      "\n",
      "Root Mean Squared Error:  404913.3754268079\n",
      "\n",
      "\n",
      "\n",
      "****************************** GradientBoostingRegressor ***************************\n",
      "\n",
      "\n",
      "GradientBoostingRegressor()\n",
      "\n",
      "\n",
      "r2_score:  0.8102034380625738\n",
      "\n",
      "\n",
      "Standard Deviation:  0.06675208967422737\n",
      "\n",
      "\n",
      "Mean Absolute Error:  152251.57921475024\n",
      "\n",
      "\n",
      "Mean Squared Error:  55389449919.79623\n",
      "\n",
      "\n",
      "Root Mean Squared Error:  235349.63335385977\n",
      "\n",
      "\n",
      "\n"
     ]
    }
   ],
   "source": [
    "#Finding the required metrices for all models together using a for loop\n",
    "Model=[]\n",
    "score=[]\n",
    "cvs=[]\n",
    "sd=[]\n",
    "mae=[]\n",
    "mse=[]\n",
    "rmse=[]\n",
    "for name,model in models:\n",
    "    print('******************************',name,'***************************')\n",
    "    print('\\n')\n",
    "    Model.append(name)\n",
    "    model.fit(x_train,y_train)\n",
    "    print(model)\n",
    "    pre=model.predict(x_test)\n",
    "    print('\\n')\n",
    "    AS=r2_score(y_test,pre)\n",
    "    print('r2_score: ',AS)\n",
    "    score.append(AS*100)\n",
    "    print('\\n')\n",
    "    std=cross_val_score(model,x,y,cv=5,scoring='r2').std()\n",
    "    print('Standard Deviation: ',std)\n",
    "    sd.append(std)\n",
    "    print('\\n')\n",
    "    MAE=mean_absolute_error(y_test,pre)\n",
    "    print('Mean Absolute Error: ',MAE)\n",
    "    mae.append(MAE)\n",
    "    print('\\n')\n",
    "    MSE=mean_squared_error(y_test,pre)\n",
    "    print('Mean Squared Error: ',MSE)\n",
    "    mse.append(MSE)\n",
    "    print('\\n')\n",
    "    RMSE=np.sqrt(mean_squared_error(y_test,pre))\n",
    "    print('Root Mean Squared Error: ',RMSE)\n",
    "    rmse.append(RMSE)\n",
    "    print('\\n\\n')"
   ]
  },
  {
   "cell_type": "code",
   "execution_count": 113,
   "metadata": {},
   "outputs": [
    {
     "data": {
      "text/html": [
       "<div>\n",
       "<style scoped>\n",
       "    .dataframe tbody tr th:only-of-type {\n",
       "        vertical-align: middle;\n",
       "    }\n",
       "\n",
       "    .dataframe tbody tr th {\n",
       "        vertical-align: top;\n",
       "    }\n",
       "\n",
       "    .dataframe thead th {\n",
       "        text-align: right;\n",
       "    }\n",
       "</style>\n",
       "<table border=\"1\" class=\"dataframe\">\n",
       "  <thead>\n",
       "    <tr style=\"text-align: right;\">\n",
       "      <th></th>\n",
       "      <th>Model</th>\n",
       "      <th>r2_score</th>\n",
       "      <th>Standard_deviation</th>\n",
       "      <th>Mean_absolute_error</th>\n",
       "      <th>Mean_squared_error</th>\n",
       "      <th>Root_Mean_Squared_error</th>\n",
       "    </tr>\n",
       "  </thead>\n",
       "  <tbody>\n",
       "    <tr>\n",
       "      <th>0</th>\n",
       "      <td>Linear Regression</td>\n",
       "      <td>43.673525</td>\n",
       "      <td>0.079931</td>\n",
       "      <td>265196.850409</td>\n",
       "      <td>1.643809e+11</td>\n",
       "      <td>405439.110546</td>\n",
       "    </tr>\n",
       "    <tr>\n",
       "      <th>1</th>\n",
       "      <td>Lasso Regression</td>\n",
       "      <td>43.673551</td>\n",
       "      <td>0.079930</td>\n",
       "      <td>265196.230989</td>\n",
       "      <td>1.643808e+11</td>\n",
       "      <td>405439.017619</td>\n",
       "    </tr>\n",
       "    <tr>\n",
       "      <th>2</th>\n",
       "      <td>Elastic Net Regression</td>\n",
       "      <td>40.558560</td>\n",
       "      <td>0.050363</td>\n",
       "      <td>260420.236014</td>\n",
       "      <td>1.734715e+11</td>\n",
       "      <td>416499.049524</td>\n",
       "    </tr>\n",
       "    <tr>\n",
       "      <th>3</th>\n",
       "      <td>Ridge Regression</td>\n",
       "      <td>43.673667</td>\n",
       "      <td>0.079918</td>\n",
       "      <td>265192.148562</td>\n",
       "      <td>1.643805e+11</td>\n",
       "      <td>405438.600038</td>\n",
       "    </tr>\n",
       "    <tr>\n",
       "      <th>4</th>\n",
       "      <td>Decision Tree Regressor</td>\n",
       "      <td>99.334723</td>\n",
       "      <td>0.349619</td>\n",
       "      <td>1774.108938</td>\n",
       "      <td>1.941518e+09</td>\n",
       "      <td>44062.654516</td>\n",
       "    </tr>\n",
       "    <tr>\n",
       "      <th>5</th>\n",
       "      <td>KNeighbors Regressor</td>\n",
       "      <td>96.406889</td>\n",
       "      <td>0.354686</td>\n",
       "      <td>32057.478436</td>\n",
       "      <td>1.048599e+10</td>\n",
       "      <td>102401.108835</td>\n",
       "    </tr>\n",
       "    <tr>\n",
       "      <th>6</th>\n",
       "      <td>RandomForestRegressor</td>\n",
       "      <td>99.447574</td>\n",
       "      <td>0.183148</td>\n",
       "      <td>6014.399050</td>\n",
       "      <td>1.612178e+09</td>\n",
       "      <td>40151.931940</td>\n",
       "    </tr>\n",
       "    <tr>\n",
       "      <th>7</th>\n",
       "      <td>AdaBoostRegressor</td>\n",
       "      <td>43.819508</td>\n",
       "      <td>0.177823</td>\n",
       "      <td>298468.201659</td>\n",
       "      <td>1.639548e+11</td>\n",
       "      <td>404913.375427</td>\n",
       "    </tr>\n",
       "    <tr>\n",
       "      <th>8</th>\n",
       "      <td>GradientBoostingRegressor</td>\n",
       "      <td>81.020344</td>\n",
       "      <td>0.066752</td>\n",
       "      <td>152251.579215</td>\n",
       "      <td>5.538945e+10</td>\n",
       "      <td>235349.633354</td>\n",
       "    </tr>\n",
       "  </tbody>\n",
       "</table>\n",
       "</div>"
      ],
      "text/plain": [
       "                       Model   r2_score  Standard_deviation  \\\n",
       "0          Linear Regression  43.673525            0.079931   \n",
       "1           Lasso Regression  43.673551            0.079930   \n",
       "2     Elastic Net Regression  40.558560            0.050363   \n",
       "3           Ridge Regression  43.673667            0.079918   \n",
       "4    Decision Tree Regressor  99.334723            0.349619   \n",
       "5       KNeighbors Regressor  96.406889            0.354686   \n",
       "6      RandomForestRegressor  99.447574            0.183148   \n",
       "7          AdaBoostRegressor  43.819508            0.177823   \n",
       "8  GradientBoostingRegressor  81.020344            0.066752   \n",
       "\n",
       "   Mean_absolute_error  Mean_squared_error  Root_Mean_Squared_error  \n",
       "0        265196.850409        1.643809e+11            405439.110546  \n",
       "1        265196.230989        1.643808e+11            405439.017619  \n",
       "2        260420.236014        1.734715e+11            416499.049524  \n",
       "3        265192.148562        1.643805e+11            405438.600038  \n",
       "4          1774.108938        1.941518e+09             44062.654516  \n",
       "5         32057.478436        1.048599e+10            102401.108835  \n",
       "6          6014.399050        1.612178e+09             40151.931940  \n",
       "7        298468.201659        1.639548e+11            404913.375427  \n",
       "8        152251.579215        5.538945e+10            235349.633354  "
      ]
     },
     "execution_count": 113,
     "metadata": {},
     "output_type": "execute_result"
    }
   ],
   "source": [
    "#Finalizing the result\n",
    "result=pd.DataFrame({'Model':Model, 'r2_score': score, 'Standard_deviation':sd,\n",
    "                    'Mean_absolute_error':mae, 'Mean_squared_error':mse, 'Root_Mean_Squared_error':rmse})\n",
    "result"
   ]
  },
  {
   "cell_type": "markdown",
   "metadata": {},
   "source": [
    "# Hyperparameter Tuning :"
   ]
  },
  {
   "cell_type": "markdown",
   "metadata": {},
   "source": [
    "# Random Forest Regressor"
   ]
  },
  {
   "cell_type": "code",
   "execution_count": 114,
   "metadata": {},
   "outputs": [],
   "source": [
    "#Creating parameter list to pass in GridSearchCV\n",
    "parameters={'criterion':['mse','mae'],'n_estimators':[50,100,500],'max_features':['auto','sqrt','log2']}"
   ]
  },
  {
   "cell_type": "code",
   "execution_count": 115,
   "metadata": {},
   "outputs": [
    {
     "name": "stdout",
     "output_type": "stream",
     "text": [
      "{'criterion': 'mse', 'max_features': 'log2', 'n_estimators': 500}\n",
      "0.9951161612016417\n"
     ]
    }
   ],
   "source": [
    "#Using GridSearchCV to run the parameters and checking final accuracy\n",
    "rf=RandomForestRegressor()\n",
    "grid=GridSearchCV(rf,parameters,cv=5,scoring='r2')\n",
    "grid.fit(x_train,y_train)\n",
    "print(grid.best_params_)  #Printing the best parameters obtained\n",
    "print(grid.best_score_) #Mean cross-validated score of best_estimator"
   ]
  },
  {
   "cell_type": "code",
   "execution_count": 116,
   "metadata": {},
   "outputs": [
    {
     "name": "stdout",
     "output_type": "stream",
     "text": [
      "r2_score:  99.8748045053894\n",
      "Standard deviation:  0.12100305463610382\n",
      "Mean absolute error:  4984.192319008198\n",
      "Mean squared error:  365365394.8275357\n",
      "Root Mean squared error:  19114.53360214514\n"
     ]
    }
   ],
   "source": [
    "#Using the best parameters obtained\n",
    "RF=RandomForestRegressor(random_state=48, n_estimators=500, criterion='mse', max_features='log2')\n",
    "RF.fit(x_train,y_train)\n",
    "pred=RF.predict(x_test)\n",
    "print('r2_score: ',r2_score(y_test,pred)*100)\n",
    "print('Standard deviation: ',cross_val_score(RF,x,y,cv=5,scoring='r2').std())\n",
    "print('Mean absolute error: ',mean_absolute_error(y_test,pred))\n",
    "print('Mean squared error: ',mean_squared_error(y_test,pred))\n",
    "print('Root Mean squared error: ',np.sqrt(mean_squared_error(y_test,pred)))"
   ]
  },
  {
   "cell_type": "markdown",
   "metadata": {},
   "source": [
    "# Finalizing the model : "
   ]
  },
  {
   "cell_type": "code",
   "execution_count": 117,
   "metadata": {},
   "outputs": [
    {
     "name": "stdout",
     "output_type": "stream",
     "text": [
      "Predictions of Random Forest Regressor:  [689524.         684006.13113826 259850.         ... 280274.276\n",
      " 232438.         564307.43517949]\n"
     ]
    }
   ],
   "source": [
    "rf_prediction=RF.predict(x)\n",
    "print('Predictions of Random Forest Regressor: ',rf_prediction)"
   ]
  },
  {
   "cell_type": "code",
   "execution_count": 118,
   "metadata": {},
   "outputs": [
    {
     "data": {
      "text/html": [
       "<div>\n",
       "<style scoped>\n",
       "    .dataframe tbody tr th:only-of-type {\n",
       "        vertical-align: middle;\n",
       "    }\n",
       "\n",
       "    .dataframe tbody tr th {\n",
       "        vertical-align: top;\n",
       "    }\n",
       "\n",
       "    .dataframe thead th {\n",
       "        text-align: right;\n",
       "    }\n",
       "</style>\n",
       "<table border=\"1\" class=\"dataframe\">\n",
       "  <thead>\n",
       "    <tr style=\"text-align: right;\">\n",
       "      <th></th>\n",
       "      <th>Original_price</th>\n",
       "      <th>Predicted_price</th>\n",
       "    </tr>\n",
       "  </thead>\n",
       "  <tbody>\n",
       "    <tr>\n",
       "      <th>0</th>\n",
       "      <td>690000.0</td>\n",
       "      <td>689524.000000</td>\n",
       "    </tr>\n",
       "    <tr>\n",
       "      <th>1</th>\n",
       "      <td>680000.0</td>\n",
       "      <td>684006.131138</td>\n",
       "    </tr>\n",
       "    <tr>\n",
       "      <th>2</th>\n",
       "      <td>260000.0</td>\n",
       "      <td>259850.000000</td>\n",
       "    </tr>\n",
       "    <tr>\n",
       "      <th>3</th>\n",
       "      <td>549000.0</td>\n",
       "      <td>549000.000000</td>\n",
       "    </tr>\n",
       "    <tr>\n",
       "      <th>4</th>\n",
       "      <td>210000.0</td>\n",
       "      <td>210000.000000</td>\n",
       "    </tr>\n",
       "    <tr>\n",
       "      <th>...</th>\n",
       "      <td>...</td>\n",
       "      <td>...</td>\n",
       "    </tr>\n",
       "    <tr>\n",
       "      <th>15934</th>\n",
       "      <td>375000.0</td>\n",
       "      <td>372044.000000</td>\n",
       "    </tr>\n",
       "    <tr>\n",
       "      <th>15935</th>\n",
       "      <td>188000.0</td>\n",
       "      <td>188632.000000</td>\n",
       "    </tr>\n",
       "    <tr>\n",
       "      <th>15936</th>\n",
       "      <td>150000.0</td>\n",
       "      <td>280274.276000</td>\n",
       "    </tr>\n",
       "    <tr>\n",
       "      <th>15937</th>\n",
       "      <td>231000.0</td>\n",
       "      <td>232438.000000</td>\n",
       "    </tr>\n",
       "    <tr>\n",
       "      <th>15938</th>\n",
       "      <td>550000.0</td>\n",
       "      <td>564307.435179</td>\n",
       "    </tr>\n",
       "  </tbody>\n",
       "</table>\n",
       "<p>14188 rows × 2 columns</p>\n",
       "</div>"
      ],
      "text/plain": [
       "       Original_price  Predicted_price\n",
       "0            690000.0    689524.000000\n",
       "1            680000.0    684006.131138\n",
       "2            260000.0    259850.000000\n",
       "3            549000.0    549000.000000\n",
       "4            210000.0    210000.000000\n",
       "...               ...              ...\n",
       "15934        375000.0    372044.000000\n",
       "15935        188000.0    188632.000000\n",
       "15936        150000.0    280274.276000\n",
       "15937        231000.0    232438.000000\n",
       "15938        550000.0    564307.435179\n",
       "\n",
       "[14188 rows x 2 columns]"
      ]
     },
     "execution_count": 118,
     "metadata": {},
     "output_type": "execute_result"
    }
   ],
   "source": [
    "#Comparing actual and predicted values with the help of a dataframe\n",
    "predictions=pd.DataFrame({'Original_price':y, 'Predicted_price':rf_prediction})\n",
    "predictions"
   ]
  },
  {
   "cell_type": "markdown",
   "metadata": {},
   "source": [
    "# Saving the model :"
   ]
  },
  {
   "cell_type": "code",
   "execution_count": 120,
   "metadata": {},
   "outputs": [],
   "source": [
    "#Saving the model\n",
    "import pickle\n",
    "filename='Car_Price_Prediction.pkl'   #Specifying the filename\n",
    "pickle.dump(RF,open(filename,'wb'))"
   ]
  },
  {
   "cell_type": "code",
   "execution_count": 121,
   "metadata": {},
   "outputs": [],
   "source": [
    "#Saving the predicted values\n",
    "results=pd.DataFrame(rf_prediction)\n",
    "results.to_csv('Car_Price_Prediction_Results.csv')"
   ]
  },
  {
   "cell_type": "code",
   "execution_count": null,
   "metadata": {},
   "outputs": [],
   "source": []
  }
 ],
 "metadata": {
  "kernelspec": {
   "display_name": "Python 3",
   "language": "python",
   "name": "python3"
  },
  "language_info": {
   "codemirror_mode": {
    "name": "ipython",
    "version": 3
   },
   "file_extension": ".py",
   "mimetype": "text/x-python",
   "name": "python",
   "nbconvert_exporter": "python",
   "pygments_lexer": "ipython3",
   "version": "3.8.3"
  },
  "toc": {
   "base_numbering": 1,
   "nav_menu": {},
   "number_sections": false,
   "sideBar": true,
   "skip_h1_title": false,
   "title_cell": "Table of Contents",
   "title_sidebar": "Contents",
   "toc_cell": false,
   "toc_position": {},
   "toc_section_display": true,
   "toc_window_display": false
  }
 },
 "nbformat": 4,
 "nbformat_minor": 4
}
